{
 "cells": [
  {
   "cell_type": "markdown",
   "id": "720f5f96",
   "metadata": {},
   "source": [
    "# NUMPY INTRODUCTION"
   ]
  },
  {
   "cell_type": "code",
   "execution_count": 1,
   "id": "817a3b60",
   "metadata": {},
   "outputs": [],
   "source": [
    "# NUMPY is a python library function used for working with arrays\n",
    "# it as also function for domain of linear algebra, fourier transforms and matrices.\n",
    "# NUMPY is a numerical python.\n",
    "# numpy as working with the array object in numpy is called ndarray."
   ]
  },
  {
   "cell_type": "code",
   "execution_count": 7,
   "id": "12e54ba6",
   "metadata": {},
   "outputs": [
    {
     "name": "stdout",
     "output_type": "stream",
     "text": [
      "[1 2 3 4 5]\n"
     ]
    }
   ],
   "source": [
    "import numpy        # importing numpy\n",
    "arr = numpy.array([1, 2, 3, 4, 5])\n",
    "print(arr)"
   ]
  },
  {
   "cell_type": "code",
   "execution_count": 8,
   "id": "01cac663",
   "metadata": {},
   "outputs": [
    {
     "name": "stdout",
     "output_type": "stream",
     "text": [
      "[1 2 3 4 5]\n"
     ]
    }
   ],
   "source": [
    "import numpy as np  # importing numpy as np\n",
    "arr = np.array([1, 2, 3, 4, 5])\n",
    "print(arr)"
   ]
  },
  {
   "cell_type": "code",
   "execution_count": 9,
   "id": "7edcc154",
   "metadata": {},
   "outputs": [
    {
     "name": "stdout",
     "output_type": "stream",
     "text": [
      "1.26.4\n"
     ]
    }
   ],
   "source": [
    "import numpy as np\n",
    "print(np.__version__) # to check the version"
   ]
  },
  {
   "cell_type": "code",
   "execution_count": 10,
   "id": "e3f2b195",
   "metadata": {},
   "outputs": [
    {
     "name": "stdout",
     "output_type": "stream",
     "text": [
      "[1 2 3 4 5]\n",
      "<class 'numpy.ndarray'>\n"
     ]
    }
   ],
   "source": [
    "import numpy as np\n",
    "arr = np.array([1, 2, 3, 4, 5])\n",
    "print(arr)\n",
    "print(type(arr)) # to check the type"
   ]
  },
  {
   "cell_type": "code",
   "execution_count": 11,
   "id": "b1d0a4e7",
   "metadata": {},
   "outputs": [
    {
     "name": "stdout",
     "output_type": "stream",
     "text": [
      "[1 2 3 4 5]\n"
     ]
    }
   ],
   "source": [
    "import numpy as np\n",
    "arr = np.array((1, 2, 3, 4, 5))  # list, tuple of methods can be converted as ndarray:\n",
    "print(arr)"
   ]
  },
  {
   "cell_type": "code",
   "execution_count": 15,
   "id": "c26ee232",
   "metadata": {},
   "outputs": [
    {
     "name": "stdout",
     "output_type": "stream",
     "text": [
      "42\n"
     ]
    }
   ],
   "source": [
    "# dimensional in array\n",
    "# a dimensional array is one level of the depth nested array\n",
    "\n",
    "# 0-D array\n",
    "import numpy as np\n",
    "arr = np.array(42) \n",
    "print(arr)"
   ]
  },
  {
   "cell_type": "code",
   "execution_count": 16,
   "id": "f0dd8c6a",
   "metadata": {},
   "outputs": [
    {
     "name": "stdout",
     "output_type": "stream",
     "text": [
      "[1 2 3 4]\n"
     ]
    }
   ],
   "source": [
    "# 1 -D Array\n",
    "import numpy as np\n",
    "arr = np.array([1, 2, 3, 4])\n",
    "print(arr)"
   ]
  },
  {
   "cell_type": "code",
   "execution_count": 17,
   "id": "fea33c5b",
   "metadata": {},
   "outputs": [
    {
     "name": "stdout",
     "output_type": "stream",
     "text": [
      "[[1 2 3]\n",
      " [4 5 6]]\n"
     ]
    }
   ],
   "source": [
    "# 2 -D array\n",
    "import numpy as np\n",
    "arr = np.array([[1, 2, 3],[4, 5, 6]])\n",
    "print(arr)"
   ]
  },
  {
   "cell_type": "code",
   "execution_count": 18,
   "id": "bb752baa",
   "metadata": {},
   "outputs": [
    {
     "name": "stdout",
     "output_type": "stream",
     "text": [
      "[[[1 2 3]\n",
      "  [4 5 6]]\n",
      "\n",
      " [[7 8 9]\n",
      "  [3 6 9]]]\n"
     ]
    }
   ],
   "source": [
    "# 3 - D Array\n",
    "import numpy as np\n",
    "arr = np.array([[[1, 2, 3],[4, 5, 6]],[[7, 8, 9],[3, 6, 9]]])\n",
    "print(arr)"
   ]
  },
  {
   "cell_type": "code",
   "execution_count": 20,
   "id": "176e917f",
   "metadata": {},
   "outputs": [
    {
     "name": "stdout",
     "output_type": "stream",
     "text": [
      "0\n",
      "1\n",
      "2\n",
      "3\n"
     ]
    }
   ],
   "source": [
    "import numpy as np\n",
    "a = np.array(42)\n",
    "b = np.array([1, 2, 3, 4])\n",
    "c = np.array([[1, 2, 3],[4, 5, 6]])\n",
    "d = np.array([[[1, 2, 3],[4, 5, 6]],[[7, 8, 9],[3, 6, 9]]])\n",
    "print(a.ndim) # number of dimensions in array\n",
    "print(b.ndim)\n",
    "print(c.ndim)\n",
    "print(d.ndim)"
   ]
  },
  {
   "cell_type": "code",
   "execution_count": 21,
   "id": "95229d74",
   "metadata": {},
   "outputs": [
    {
     "name": "stdout",
     "output_type": "stream",
     "text": [
      "[[[[[1 2 3 4]]]]]\n",
      "number of dimensions in array: 5\n"
     ]
    }
   ],
   "source": [
    "# HIGHER DIMENSIONAL ARRAY\n",
    "# you can define the number of dimensions by using the ndmin argument\n",
    "import numpy as np\n",
    "arr = np.array([1, 2, 3, 4], ndmin = 5) # ndmin argument\n",
    "print(arr)\n",
    "print(\"number of dimensions in array:\", arr.ndim)"
   ]
  },
  {
   "cell_type": "code",
   "execution_count": null,
   "id": "50c6e630",
   "metadata": {},
   "outputs": [
    {
     "name": "stdout",
     "output_type": "stream",
     "text": [
      "1\n",
      "2\n",
      "7\n"
     ]
    }
   ],
   "source": [
    "# NUMPY ARRAY ELEMENTS\n",
    "# Array indexing is e same as accessing an array elements\n",
    "# you can access an array element by referring to its index number\n",
    "# index numpy array start with the 0, as second digit as the 1 and so on...\n",
    "import numpy as np\n",
    "arr = np.array([1, 2, 3, 4, 5])\n",
    "print(arr[0])\n",
    "print(arr[1])\n",
    "print(arr[2]+arr[3]) # addition of two elements"
   ]
  },
  {
   "cell_type": "code",
   "execution_count": 24,
   "id": "0a4cf555",
   "metadata": {},
   "outputs": [
    {
     "name": "stdout",
     "output_type": "stream",
     "text": [
      "2nd element on 1st row:  2\n"
     ]
    }
   ],
   "source": [
    "import numpy as np\n",
    "arr = np.array([[1, 2, 3],[4, 5, 6]])\n",
    "print('2nd element on 1st row: ', arr[0, 1])\n",
    "            # arr[first list of first index in, second index]"
   ]
  },
  {
   "cell_type": "code",
   "execution_count": 26,
   "id": "a0107d4e",
   "metadata": {},
   "outputs": [
    {
     "name": "stdout",
     "output_type": "stream",
     "text": [
      "6\n"
     ]
    }
   ],
   "source": [
    "import numpy as np\n",
    "arr = np.array([[[1, 2, 3],[4, 5, 6]],[[7, 8, 9],[3, 6, 9]]])\n",
    "print(arr[0,1,2]) # 1st list 2nd list 3rd index"
   ]
  },
  {
   "cell_type": "code",
   "execution_count": null,
   "id": "e5451df4",
   "metadata": {},
   "outputs": [
    {
     "name": "stdout",
     "output_type": "stream",
     "text": [
      "print last element of last dimension: 6\n"
     ]
    }
   ],
   "source": [
    "import numpy as np\n",
    "arr = np.array([[1, 2, 3],[4, 5, 6]])\n",
    "print('print last element of last dimension:',arr[1,-1]) "
   ]
  },
  {
   "cell_type": "code",
   "execution_count": 28,
   "id": "15b137f5",
   "metadata": {},
   "outputs": [
    {
     "name": "stdout",
     "output_type": "stream",
     "text": [
      "[2 3 4 5]\n",
      "[1 2 3 4 5 6]\n",
      "[1 2 3 4 5]\n",
      "[4 5]\n",
      "[2 4]\n",
      "[2 6]\n",
      "[2]\n",
      "[1 3 5]\n"
     ]
    }
   ],
   "source": [
    "# NUMPY ARRAY SLICING\n",
    "# SLICING ARRAYS [START:END:STEP]\n",
    "# pass slice of index [start:end]\n",
    "# can aslo defined a step [start:end:step]\n",
    "# if don't pass start, default 0\n",
    "# if don't pass end, default to end\n",
    "# if don't pass step, default 1 \n",
    "\n",
    "import numpy as np\n",
    "arr = np.array([1, 2, 3, 4, 5, 6])\n",
    "print(arr[1:5]) # 1 to 4 # step is by default 1\n",
    "print(arr[0:])  # 1 to end\n",
    "print(arr[:5])  # 0 to 4\n",
    "print(arr[-3:-1]) # 4 to 5\n",
    "print(arr[1:5:2])   # 1 to 4 with step 2\n",
    "print(arr[1:6:4])   # 1 to 6 with step 4\n",
    "print(arr[1:6:6])   # 1 to 6 with step 6\n",
    "print(arr[::2]) # 0 to end with step 2"
   ]
  },
  {
   "cell_type": "code",
   "execution_count": 30,
   "id": "5777571d",
   "metadata": {},
   "outputs": [
    {
     "name": "stdout",
     "output_type": "stream",
     "text": [
      "[5 6]\n",
      "[2 3]\n",
      "[3 6]\n",
      "[2 5]\n"
     ]
    }
   ],
   "source": [
    "import numpy as np\n",
    "arr = np.array([[1, 2, 3],[4, 5, 6]])\n",
    "print(arr[1, 1:4]) \n",
    "print(arr[0, 1:4]) \n",
    "print(arr[0:2, 2])\n",
    "print(arr[0:2, 1]) # end of index with both the array of index"
   ]
  },
  {
   "cell_type": "code",
   "execution_count": 31,
   "id": "a1a9dc20",
   "metadata": {},
   "outputs": [
    {
     "name": "stdout",
     "output_type": "stream",
     "text": [
      "[[2 3]\n",
      " [5 6]]\n",
      "[[1]\n",
      " [4]]\n",
      "[[1 2]\n",
      " [4 5]]\n",
      "[[2]\n",
      " [5]]\n"
     ]
    }
   ],
   "source": [
    "import numpy as np\n",
    "arr = np.array([[1, 2, 3],[4, 5, 6]])\n",
    "print(arr[0:2, 1:4])\n",
    "print(arr[0:3, 0:1]) \n",
    "print(arr[0:2, 0:2])\n",
    "print(arr[0:3, 1:2]) # similar index to get the same dim if unsimilar the dim not applicable"
   ]
  },
  {
   "cell_type": "code",
   "execution_count": 34,
   "id": "0dbd14b5",
   "metadata": {},
   "outputs": [],
   "source": [
    "# DATA TYPES IN PYTHON\n",
    "# strings - ABCD\n",
    "# integer - 1,2,3\n",
    "# float - 1.2,3.4,5.3\n",
    "# boolean - True, False\n",
    "# complex - 1.0+2.0j"
   ]
  },
  {
   "cell_type": "code",
   "execution_count": 42,
   "id": "fa356201",
   "metadata": {},
   "outputs": [],
   "source": [
    "# DATA TYPES IN NUMPY\n",
    "# i - integer\n",
    "# b - boolean\n",
    "# u - unsigned integer\n",
    "# f - float \n",
    "# c - complex float\n",
    "# m - timedelta\n",
    "# M - datatime\n",
    "# O - object\n",
    "# S - string\n",
    "# U - unicode string\n",
    "# V - fixed chunk of memory for other type\n",
    "\n",
    "# If you don’t specify dtype, NumPy will:\n",
    "# Automatically infer the most general type that can represent all elements in the array."
   ]
  },
  {
   "cell_type": "code",
   "execution_count": 43,
   "id": "cb87533b",
   "metadata": {},
   "outputs": [
    {
     "name": "stdout",
     "output_type": "stream",
     "text": [
      "[1 2 3 4 5 6 7]\n",
      "<class 'numpy.ndarray'>\n",
      "int64\n"
     ]
    }
   ],
   "source": [
    "import numpy as np\n",
    "arr = np.array([1, 2, 3, 4, 5, 6, 7]) # dtype by default is int\n",
    "print(arr)\n",
    "print(type(arr))\n",
    "print(arr.dtype) # to check the data type"
   ]
  },
  {
   "cell_type": "code",
   "execution_count": 44,
   "id": "914789ff",
   "metadata": {},
   "outputs": [
    {
     "name": "stdout",
     "output_type": "stream",
     "text": [
      "['a' 'b' 'c' 'd']\n",
      "<U1\n"
     ]
    }
   ],
   "source": [
    "import numpy as np\n",
    "arr = np.array(['a', 'b', 'c', 'd']) # dtype by default is U1\n",
    "print(arr)\n",
    "print(arr.dtype) \n",
    "\n",
    "# '<U1' is NumPy's way of saying the array contains Unicode strings of length 1.\n",
    "# Here's the breakdown:\n",
    "# '<' = little-endian (irrelevant for strings, but part of NumPy's dtype format)\n",
    "# 'U' = Unicode string\n",
    "# '1' = maximum length of each string element (1 character)"
   ]
  },
  {
   "cell_type": "code",
   "execution_count": 48,
   "id": "48fffda9",
   "metadata": {},
   "outputs": [
    {
     "name": "stdout",
     "output_type": "stream",
     "text": [
      "[b'1' b'2' b'3' b'4' b'5' b'6' b'7']\n",
      "<class 'numpy.ndarray'>\n",
      "|S1\n"
     ]
    }
   ],
   "source": [
    "import numpy as np\n",
    "arr = np.array([1, 2, 3, 4, 5, 6, 7], dtype = 'S') # S is 8 bit integer\n",
    "print(arr)\n",
    "print(type(arr))\n",
    "print(arr.dtype) "
   ]
  },
  {
   "cell_type": "code",
   "execution_count": 49,
   "id": "3a908f23",
   "metadata": {},
   "outputs": [
    {
     "name": "stdout",
     "output_type": "stream",
     "text": [
      "[1 2 3 4 5 6 7]\n",
      "<class 'numpy.ndarray'>\n",
      "int32\n"
     ]
    }
   ],
   "source": [
    "import numpy as np\n",
    "arr = np.array([1, 2, 3, 4, 5, 6, 7], dtype = 'i4') # i4 is 32 bit integer\n",
    "print(arr)\n",
    "print(type(arr))\n",
    "print(arr.dtype)"
   ]
  },
  {
   "cell_type": "code",
   "execution_count": 52,
   "id": "a36565f0",
   "metadata": {},
   "outputs": [
    {
     "name": "stdout",
     "output_type": "stream",
     "text": [
      "[1 2 3]\n",
      "int32\n"
     ]
    }
   ],
   "source": [
    "import numpy as np\n",
    "arr = np.array([1.1, 2.1, 3.1]) # dtype by default is float\n",
    "newarr = arr.astype('i')    # to change the data type to int32\n",
    "print(newarr)\n",
    "print(newarr.dtype)"
   ]
  },
  {
   "cell_type": "code",
   "execution_count": 53,
   "id": "d6dd1d48",
   "metadata": {},
   "outputs": [
    {
     "name": "stdout",
     "output_type": "stream",
     "text": [
      "[1 2 3]\n",
      "int64\n"
     ]
    }
   ],
   "source": [
    "import numpy as np\n",
    "arr = np.array([1.1, 2.1, 3.1]) # dtype by default is float\n",
    "newarr = arr.astype('int') # to change the data type to int64\n",
    "print(newarr)\n",
    "print(newarr.dtype)"
   ]
  },
  {
   "cell_type": "code",
   "execution_count": 54,
   "id": "da0870da",
   "metadata": {},
   "outputs": [
    {
     "name": "stdout",
     "output_type": "stream",
     "text": [
      "[ True False  True]\n",
      "bool\n"
     ]
    }
   ],
   "source": [
    "import numpy as np\n",
    "arr = np.array([1.1, 0, 3.1]) # dtype by default is float\n",
    "newarr = arr.astype(bool) # to change the data type to bool\n",
    "print(newarr)\n",
    "print(newarr.dtype)"
   ]
  },
  {
   "cell_type": "code",
   "execution_count": 55,
   "id": "42e901e2",
   "metadata": {},
   "outputs": [
    {
     "name": "stdout",
     "output_type": "stream",
     "text": [
      "[42  2  3  4  5]\n",
      "[1 2 3 4 5]\n"
     ]
    }
   ],
   "source": [
    "# NUMPY ARRAY COPY VS VIEW\n",
    "# copy:\n",
    "import numpy as np\n",
    "arr = np.array([1, 2, 3, 4, 5])\n",
    "x = arr.copy() # copy the array\n",
    "arr[0] = 42 # change the first element of original array\n",
    "print(arr) \n",
    "print(x) "
   ]
  },
  {
   "cell_type": "code",
   "execution_count": 56,
   "id": "4a05eeb1",
   "metadata": {},
   "outputs": [
    {
     "name": "stdout",
     "output_type": "stream",
     "text": [
      "[42  2  3  4  5]\n",
      "[42  2  3  4  5]\n"
     ]
    }
   ],
   "source": [
    "import numpy as np\n",
    "# view:\n",
    "arr = np.array([1, 2, 3, 4, 5])\n",
    "x = arr.view() # view the array\n",
    "arr[0] = 42\n",
    "print(arr)\n",
    "print(x)"
   ]
  },
  {
   "cell_type": "code",
   "execution_count": 57,
   "id": "744ccbb1",
   "metadata": {},
   "outputs": [
    {
     "name": "stdout",
     "output_type": "stream",
     "text": [
      "[ 1  2 32  4  5]\n",
      "[ 1  2 32  4  5]\n"
     ]
    }
   ],
   "source": [
    "import numpy as np\n",
    "arr = np.array([1, 2, 3, 4, 5])\n",
    "x = arr.view()\n",
    "arr[2] = 32\n",
    "print(arr)\n",
    "print(x)"
   ]
  },
  {
   "cell_type": "code",
   "execution_count": 60,
   "id": "041f98b9",
   "metadata": {},
   "outputs": [
    {
     "name": "stdout",
     "output_type": "stream",
     "text": [
      "None\n",
      "[1 2 3 4 5]\n"
     ]
    }
   ],
   "source": [
    "import numpy as np\n",
    "arr = np.array([1, 2, 3, 4, 5])\n",
    "x = arr.copy()\n",
    "y = arr.view()\n",
    "\n",
    "print(x.base) # base is the original array\n",
    "print(y.base) # base is the original array"
   ]
  },
  {
   "cell_type": "code",
   "execution_count": 62,
   "id": "ce8dc76b",
   "metadata": {},
   "outputs": [
    {
     "name": "stdout",
     "output_type": "stream",
     "text": [
      "[ 1  2 42  4  5]\n",
      "None\n",
      "[ 1  2 42  4  5]\n"
     ]
    }
   ],
   "source": [
    "import numpy as np\n",
    "arr = np.array([1, 2, 3, 4, 5])\n",
    "x = arr.copy()\n",
    "y = arr.view()\n",
    "arr[2] = 42\n",
    "print(arr)\n",
    "print(x.base)\n",
    "print(y.base)"
   ]
  },
  {
   "cell_type": "code",
   "execution_count": 64,
   "id": "7c6d9451",
   "metadata": {},
   "outputs": [
    {
     "name": "stdout",
     "output_type": "stream",
     "text": [
      "(2, 3)\n"
     ]
    }
   ],
   "source": [
    "# NUMPY IN ARRAY SHAPE\n",
    "# shape of an array\n",
    "import numpy as np\n",
    "arr = np.array([[1, 2, 3],[4, 5, 6]])\n",
    "print(arr.shape) # to check the shape # 2 rows and 3 columns"
   ]
  },
  {
   "cell_type": "code",
   "execution_count": 66,
   "id": "bd8b1e71",
   "metadata": {},
   "outputs": [
    {
     "name": "stdout",
     "output_type": "stream",
     "text": [
      "shape of array: (4,)\n"
     ]
    }
   ],
   "source": [
    "import numpy as np\n",
    "arr = np.array([1, 2, 3, 4])\n",
    "print('shape of array:',arr.shape)"
   ]
  },
  {
   "cell_type": "code",
   "execution_count": 67,
   "id": "a4e903fa",
   "metadata": {},
   "outputs": [
    {
     "name": "stdout",
     "output_type": "stream",
     "text": [
      "[[[[[1 2 3 4]]]]]\n",
      "shape of array: (1, 1, 1, 1, 4)\n"
     ]
    }
   ],
   "source": [
    "import numpy as np\n",
    "arr = np.array([1, 2, 3, 4], ndmin = 5) # ndmin is number of dimension\n",
    "print(arr)\n",
    "print('shape of array:',arr.shape)"
   ]
  },
  {
   "cell_type": "code",
   "execution_count": 69,
   "id": "f6238765",
   "metadata": {},
   "outputs": [
    {
     "name": "stdout",
     "output_type": "stream",
     "text": [
      "[[ 1  2  3]\n",
      " [ 4  5  6]\n",
      " [ 7  8  9]\n",
      " [10 11 12]]\n"
     ]
    }
   ],
   "source": [
    "# NUMPY IN RESHAPE\n",
    "import numpy as np\n",
    "arr = np.array([1, 2, 3, 4, 5, 6, 7, 8, 9, 10, 11, 12])\n",
    "newarr = arr.reshape(4,3) # reshape the array to 4 rows and 3 columns\n",
    "print(newarr)"
   ]
  },
  {
   "cell_type": "code",
   "execution_count": 70,
   "id": "62ddb5d6",
   "metadata": {},
   "outputs": [
    {
     "name": "stdout",
     "output_type": "stream",
     "text": [
      "[[ 1  2  3  4]\n",
      " [ 5  6  7  8]\n",
      " [ 9 10 11 12]]\n"
     ]
    }
   ],
   "source": [
    "import numpy as np\n",
    "arr = np.array([1, 2, 3, 4, 5, 6, 7, 8, 9, 10, 11, 12])\n",
    "newarr = arr.reshape(3,4)\n",
    "print(newarr)"
   ]
  },
  {
   "cell_type": "code",
   "execution_count": 75,
   "id": "332dd4ad",
   "metadata": {},
   "outputs": [
    {
     "name": "stdout",
     "output_type": "stream",
     "text": [
      "[[[ 1  2]\n",
      "  [ 3  4]\n",
      "  [ 5  6]]\n",
      "\n",
      " [[ 7  8]\n",
      "  [ 9 10]\n",
      "  [11 12]]]\n"
     ]
    }
   ],
   "source": [
    "import numpy as np\n",
    "arr = np.array([1, 2, 3, 4, 5, 6, 7, 8, 9, 10, 11, 12])\n",
    "newarr = arr.reshape(2, 3, 2)\n",
    "print(newarr)"
   ]
  },
  {
   "cell_type": "code",
   "execution_count": 73,
   "id": "63c3e50c",
   "metadata": {},
   "outputs": [
    {
     "name": "stdout",
     "output_type": "stream",
     "text": [
      "[1 2 3 4 5 6 7 8]\n"
     ]
    }
   ],
   "source": [
    "# RETURN COPY OR VIEW\n",
    "import numpy as np\n",
    "arr = np.array([1, 2, 3, 4, 5, 6, 7, 8])\n",
    "print(arr.reshape(2, 4).base) # base is the original array"
   ]
  },
  {
   "cell_type": "code",
   "execution_count": 76,
   "id": "b73cd1ad",
   "metadata": {},
   "outputs": [
    {
     "name": "stdout",
     "output_type": "stream",
     "text": [
      "[[[ 1  2  3]\n",
      "  [ 4  5  6]]\n",
      "\n",
      " [[ 7  8  9]\n",
      "  [10 11 12]]]\n"
     ]
    }
   ],
   "source": [
    "import numpy as np\n",
    "arr = np.array([1, 2, 3, 4, 5, 6, 7, 8, 9, 10, 11, 12])\n",
    "newarr = arr.reshape(2, 2, -1) # -1 will adjust the size automatically based on the number of elements\n",
    "print(newarr)"
   ]
  },
  {
   "cell_type": "code",
   "execution_count": 77,
   "id": "fa2390e6",
   "metadata": {},
   "outputs": [
    {
     "name": "stdout",
     "output_type": "stream",
     "text": [
      "[ 1  2  3  4  5  6  7  8  9 10 11 12]\n"
     ]
    }
   ],
   "source": [
    "import numpy as np\n",
    "arr = np.array([1, 2, 3, 4, 5, 6, 7, 8, 9, 10, 11, 12])\n",
    "newarr = arr.reshape(-1) \n",
    "print(newarr)"
   ]
  },
  {
   "cell_type": "code",
   "execution_count": 78,
   "id": "9db4275a",
   "metadata": {},
   "outputs": [
    {
     "name": "stdout",
     "output_type": "stream",
     "text": [
      "1\n",
      "2\n",
      "3\n"
     ]
    }
   ],
   "source": [
    "# NUMPY ARRAY iterating\n",
    "# iterating arrays\n",
    "# multiple dimensions in numpy we use the for loop\n",
    "import numpy as np\n",
    "arr = np.array([1, 2, 3])\n",
    "for x in arr:\n",
    "    print(x)"
   ]
  },
  {
   "cell_type": "code",
   "execution_count": 79,
   "id": "804c9ff2",
   "metadata": {},
   "outputs": [
    {
     "name": "stdout",
     "output_type": "stream",
     "text": [
      "[1, 2, 3]\n",
      "[4, 5, 6]\n"
     ]
    }
   ],
   "source": [
    "# iterating 2-D arrays\n",
    "import numpy as np\n",
    "arr = ([[1, 2, 3],[4, 5, 6]])\n",
    "for x in arr:\n",
    "    print(x)"
   ]
  },
  {
   "cell_type": "code",
   "execution_count": 80,
   "id": "f3daaafd",
   "metadata": {},
   "outputs": [
    {
     "name": "stdout",
     "output_type": "stream",
     "text": [
      "[1 2 3]\n",
      "[4 5 6]\n"
     ]
    }
   ],
   "source": [
    "import numpy as np\n",
    "\n",
    "arr = np.array([[1, 2, 3],[4, 5, 6]])\n",
    "for x in arr:\n",
    "    print(x)"
   ]
  },
  {
   "cell_type": "code",
   "execution_count": 7,
   "id": "9754990d",
   "metadata": {},
   "outputs": [
    {
     "name": "stdout",
     "output_type": "stream",
     "text": [
      "1\n",
      "2\n",
      "3\n",
      "4\n",
      "5\n",
      "6\n"
     ]
    }
   ],
   "source": [
    "import numpy as np\n",
    "arr = np.array([[1, 2, 3],[4, 5, 6]])\n",
    "for x in arr:\n",
    "    for y in x:\n",
    "        print(y)"
   ]
  },
  {
   "cell_type": "code",
   "execution_count": 81,
   "id": "8a395b13",
   "metadata": {},
   "outputs": [
    {
     "name": "stdout",
     "output_type": "stream",
     "text": [
      "[[1 2 3]\n",
      " [4 5 6]]\n",
      "[[7 8 9]\n",
      " [3 6 9]]\n"
     ]
    }
   ],
   "source": [
    "# iterating 3-D array\n",
    "import numpy as np\n",
    "arr = np.array([[[1, 2, 3],[4, 5, 6]],[[7, 8, 9],[3, 6, 9]]])\n",
    "for x in arr:\n",
    "    print(x)"
   ]
  },
  {
   "cell_type": "code",
   "execution_count": 82,
   "id": "c09e6dce",
   "metadata": {},
   "outputs": [
    {
     "name": "stdout",
     "output_type": "stream",
     "text": [
      "[1 2 3]\n",
      "[4 5 6]\n",
      "[1 2 3]\n",
      "[4 5 6]\n",
      "[7 8 9]\n",
      "[3 6 9]\n",
      "[7 8 9]\n",
      "[3 6 9]\n"
     ]
    }
   ],
   "source": [
    "import numpy as np \n",
    "arr = np.array([[[1, 2, 3],[4, 5, 6]],[[7, 8, 9],[3, 6, 9]]])\n",
    "for x in arr:\n",
    "    for y in x:\n",
    "        for z in x:\n",
    "            print(z)"
   ]
  },
  {
   "cell_type": "code",
   "execution_count": 10,
   "id": "1c565738",
   "metadata": {},
   "outputs": [
    {
     "name": "stdout",
     "output_type": "stream",
     "text": [
      "1\n",
      "2\n",
      "3\n",
      "4\n",
      "5\n",
      "6\n",
      "7\n",
      "8\n",
      "9\n",
      "3\n",
      "6\n",
      "9\n"
     ]
    }
   ],
   "source": [
    "import numpy as np \n",
    "arr = np.array([[[1, 2, 3],[4, 5, 6]],[[7, 8, 9],[3, 6, 9]]])\n",
    "for x in arr:\n",
    "    for y in x:\n",
    "        for z in y:\n",
    "            print(z)"
   ]
  },
  {
   "cell_type": "code",
   "execution_count": 83,
   "id": "b6553bf2",
   "metadata": {},
   "outputs": [
    {
     "name": "stdout",
     "output_type": "stream",
     "text": [
      "1\n",
      "2\n",
      "3\n",
      "4\n",
      "5\n",
      "6\n",
      "7\n",
      "8\n"
     ]
    }
   ],
   "source": [
    "# iterating arrays using nditer()\n",
    "# nditer() very advanced function number of iterations\n",
    "# iterating on each scalar element\n",
    "import numpy as np\n",
    "arr = np.array([[[1, 2],[3, 4]],[[5, 6],[7, 8]]])\n",
    "for x in np.nditer(arr): # nditer() is used to iterate on each scalar element\n",
    "    print(x)"
   ]
  },
  {
   "cell_type": "code",
   "execution_count": 87,
   "id": "9f9bb495",
   "metadata": {},
   "outputs": [
    {
     "name": "stdout",
     "output_type": "stream",
     "text": [
      "b'1'\n",
      "b'2'\n",
      "b'3'\n"
     ]
    }
   ],
   "source": [
    "# ITERATING ARRAY WITH DIFFERENT DATA TYPES\n",
    "# OP_DTYPES \n",
    "import numpy as np\n",
    "arr = np.array([1, 2, 3])\n",
    "for x in np.nditer(arr, flags = ['buffered'], op_dtypes = ['S']): # S is for string, buffered is for buffering\n",
    "    print(x) # type <class 'numpy.ndarray'>"
   ]
  },
  {
   "cell_type": "code",
   "execution_count": 90,
   "id": "4a9f6a3f",
   "metadata": {},
   "outputs": [
    {
     "name": "stdout",
     "output_type": "stream",
     "text": [
      "1\n",
      "3\n",
      "4\n",
      "6\n"
     ]
    }
   ],
   "source": [
    "# skipping elements\n",
    "import numpy as np\n",
    "arr = np.array([[1, 2, 3],[4, 5, 6]])\n",
    "for x in np.nditer(arr[:, ::2]):\n",
    "    print(x)"
   ]
  },
  {
   "cell_type": "code",
   "execution_count": 92,
   "id": "e5573b8a",
   "metadata": {},
   "outputs": [
    {
     "name": "stdout",
     "output_type": "stream",
     "text": [
      "(0,) 1\n",
      "(1,) 2\n",
      "(2,) 3\n"
     ]
    }
   ],
   "source": [
    "# ENUMERATE is use as sequence of number\n",
    "import numpy as np\n",
    "arr = np.array([1, 2, 3])\n",
    "for idx, x in np.ndenumerate(arr): #returns the index and value\n",
    "    print(idx, x)"
   ]
  },
  {
   "cell_type": "code",
   "execution_count": 97,
   "id": "64991f72",
   "metadata": {},
   "outputs": [
    {
     "name": "stdout",
     "output_type": "stream",
     "text": [
      "(0,) rahul\n",
      "(1,) vinay\n",
      "(2,) raju\n",
      "(3,) pavan\n"
     ]
    }
   ],
   "source": [
    "import numpy as np\n",
    "arr = np.array([\"rahul\", \"vinay\", \"raju\", \"pavan\"])\n",
    "for idx, x in np.ndenumerate(arr):\n",
    "    print(idx, x)"
   ]
  },
  {
   "cell_type": "code",
   "execution_count": 100,
   "id": "e7d6417e",
   "metadata": {},
   "outputs": [
    {
     "name": "stdout",
     "output_type": "stream",
     "text": [
      "[1 2 3 4 5 6]\n"
     ]
    }
   ],
   "source": [
    "# NUMPY JOINING ARRAY\n",
    "# joining numpy arrays\n",
    "# two are more arrays in a single array\n",
    "# sequnece of array they want to join the concatenate()\n",
    "import numpy as np\n",
    "arr1 = np.array([1, 2, 3])\n",
    "arr2 = np.array([4, 5, 6])\n",
    "arr = np.concatenate((arr1, arr2)) # axis = 0 is for row by default\n",
    "print(arr)"
   ]
  },
  {
   "cell_type": "code",
   "execution_count": 99,
   "id": "4c05b110",
   "metadata": {},
   "outputs": [
    {
     "name": "stdout",
     "output_type": "stream",
     "text": [
      "[[1 2 5 6]\n",
      " [3 4 7 8]]\n"
     ]
    }
   ],
   "source": [
    "import numpy as np\n",
    "arr1 = np.array([[1, 2],[3, 4]])\n",
    "arr2 = np.array([[5, 6],[7, 8]])\n",
    "arr = np.concatenate((arr1,arr2), axis = 1) # axis = 1 is for column\n",
    "print(arr)"
   ]
  },
  {
   "cell_type": "code",
   "execution_count": 104,
   "id": "71687168",
   "metadata": {},
   "outputs": [
    {
     "name": "stdout",
     "output_type": "stream",
     "text": [
      "[[1 4]\n",
      " [2 5]\n",
      " [3 6]]\n"
     ]
    }
   ],
   "source": [
    "# JOING ARRAY USING STACK FUNCTIONS \n",
    "# STACKING IS AS SAME AS CONCATENATE\n",
    "# THE ONLY DIFFERENCE IS THE NEW AXIS\n",
    "import numpy as np\n",
    "arr1 = ([1, 2, 3])\n",
    "arr2 = ([4, 5, 6])\n",
    "arr = np.stack((arr1, arr2), axis = 1)\n",
    "print(arr)"
   ]
  },
  {
   "cell_type": "code",
   "execution_count": 105,
   "id": "1c90575d",
   "metadata": {},
   "outputs": [
    {
     "name": "stdout",
     "output_type": "stream",
     "text": [
      "[1 2 3 4 5 6]\n"
     ]
    }
   ],
   "source": [
    "# STACKING ALONG ROWS\n",
    "# numpy provides a helper function: hstack() to\n",
    "# stack along rows.\n",
    "import numpy as np\n",
    "arr1 = np.array([1, 2, 3])\n",
    "arr2 = np.array([4, 5, 6])\n",
    "arr = np.hstack((arr1, arr2))\n",
    "print(arr)"
   ]
  },
  {
   "cell_type": "code",
   "execution_count": 106,
   "id": "deacb737",
   "metadata": {},
   "outputs": [
    {
     "name": "stdout",
     "output_type": "stream",
     "text": [
      "[[1 2 3]\n",
      " [4 5 6]]\n"
     ]
    }
   ],
   "source": [
    "# STACKING ALONG colomn\n",
    "# numpy provides a helper function: vstack() to\n",
    "# stack along colomn.\n",
    "import numpy as np\n",
    "arr1 = np.array([1, 2, 3])\n",
    "arr2 = np.array([4, 5, 6])\n",
    "arr = np.vstack((arr1, arr2))\n",
    "print(arr)"
   ]
  },
  {
   "cell_type": "code",
   "execution_count": 107,
   "id": "457205b2",
   "metadata": {},
   "outputs": [
    {
     "name": "stdout",
     "output_type": "stream",
     "text": [
      "[[[1 4]\n",
      "  [2 5]\n",
      "  [3 6]]]\n"
     ]
    }
   ],
   "source": [
    "# stacking along height (depth)\n",
    "# dstack\n",
    "import numpy as np\n",
    "arr1 = np.array([1, 2, 3])\n",
    "arr2 = np.array([4, 5, 6])\n",
    "arr = np.dstack((arr1, arr2)) \n",
    "print(arr)"
   ]
  },
  {
   "cell_type": "code",
   "execution_count": 109,
   "id": "9989f457",
   "metadata": {},
   "outputs": [
    {
     "name": "stdout",
     "output_type": "stream",
     "text": [
      "[array([1, 2]), array([3, 4]), array([5, 6])]\n"
     ]
    }
   ],
   "source": [
    "# NUMPY SPLITING ARRAY\n",
    "# SPLITTING NUMPY ARRAYS\n",
    "# spliting is the reverse operation of the joinng \n",
    "# joining merges multiple arrays into one and splitting breaks one array into multiple.\n",
    "# we use splitting array (array_split())\n",
    "import numpy as np\n",
    "arr = np.array([1, 2, 3, 4, 5, 6])\n",
    "newarr = np.array_split(arr, 3) # 3 is the number of array\n",
    "print(newarr)"
   ]
  },
  {
   "cell_type": "code",
   "execution_count": 110,
   "id": "01d2728d",
   "metadata": {},
   "outputs": [
    {
     "name": "stdout",
     "output_type": "stream",
     "text": [
      "[array([1, 2]), array([3, 4]), array([5]), array([6])]\n"
     ]
    }
   ],
   "source": [
    "import numpy as np\n",
    "arr = np.array([1, 2, 3, 4, 5, 6])\n",
    "newarr = np.array_split(arr, 4) # 4 is the number of array\n",
    "print(newarr)"
   ]
  },
  {
   "cell_type": "code",
   "execution_count": 111,
   "id": "81a024f8",
   "metadata": {},
   "outputs": [
    {
     "name": "stdout",
     "output_type": "stream",
     "text": [
      "[1 2]\n",
      "[3 4]\n",
      "[5 6]\n"
     ]
    }
   ],
   "source": [
    "#splitting arrays\n",
    "import numpy as np\n",
    "arr = np.array([1, 2, 3, 4, 5, 6])\n",
    "newarr = np.array_split(arr, 3)\n",
    "print(newarr[0])\n",
    "print(newarr[1])\n",
    "print(newarr[2])"
   ]
  },
  {
   "cell_type": "code",
   "execution_count": 123,
   "id": "f7b1ba55",
   "metadata": {},
   "outputs": [
    {
     "name": "stdout",
     "output_type": "stream",
     "text": [
      "[[ 1  2]\n",
      " [ 3  4]\n",
      " [ 5  6]\n",
      " [ 6  7]\n",
      " [ 8  9]\n",
      " [10 11]\n",
      " [12 13]]\n",
      "\n",
      "(3, 2)\n",
      "[[1 2]\n",
      " [3 4]\n",
      " [5 6]]\n",
      "\n",
      "(2, 2)\n",
      "[[6 7]\n",
      " [8 9]]\n",
      "\n",
      "(2, 2)\n",
      "[[10 11]\n",
      " [12 13]]\n"
     ]
    }
   ],
   "source": [
    "import numpy as np\n",
    "arr = np.array([[1, 2],[3,4],[5, 6],[6, 7],[8, 9],[10, 11],[12, 13]])\n",
    "newarr = np.array_split(arr, 3)\n",
    "print(arr)\n",
    "\n",
    "for ele in range(len(newarr)):\n",
    "    print()\n",
    "    print(newarr[ele].shape)\n",
    "    print(newarr[ele])"
   ]
  },
  {
   "cell_type": "code",
   "execution_count": 124,
   "id": "8291ddd8",
   "metadata": {},
   "outputs": [
    {
     "name": "stdout",
     "output_type": "stream",
     "text": [
      "[array([[1, 2],\n",
      "       [3, 4],\n",
      "       [5, 6]]), array([[6, 7],\n",
      "       [8, 9]]), array([[10, 11],\n",
      "       [12, 13]])]\n"
     ]
    }
   ],
   "source": [
    "import numpy as np\n",
    "arr = np.array([[1, 2],[3,4],[5, 6],[6, 7],[8, 9],[10, 11],[12, 13]])\n",
    "newarr = np.array_split(arr, 3)\n",
    "print(newarr)"
   ]
  },
  {
   "cell_type": "code",
   "execution_count": 125,
   "id": "ed8bf228",
   "metadata": {},
   "outputs": [
    {
     "name": "stdout",
     "output_type": "stream",
     "text": [
      "[[ 1  2  4]\n",
      " [ 3  4  8]\n",
      " [ 5  6  7]\n",
      " [ 6  7  2]\n",
      " [ 8  9  7]\n",
      " [10 11  3]\n",
      " [12 13  4]]\n"
     ]
    }
   ],
   "source": [
    "import numpy as np\n",
    "arr = np.array([[1, 2, 4],[3, 4, 8],[5, 6, 7],[6, 7, 2],[8, 9, 7],[10, 11, 3],[12, 13, 4]])\n",
    "newarr = np.array_split(arr, 3)\n",
    "print(arr)"
   ]
  },
  {
   "cell_type": "code",
   "execution_count": 140,
   "id": "4409dd08",
   "metadata": {},
   "outputs": [
    {
     "name": "stdout",
     "output_type": "stream",
     "text": [
      "[[ 1  2  4]\n",
      " [ 3  4  8]\n",
      " [ 5  6  7]\n",
      " [ 6  7  2]\n",
      " [ 8  9  7]\n",
      " [10 11  3]\n",
      " [12 13  4]]\n"
     ]
    }
   ],
   "source": [
    "import numpy as np\n",
    "arr = np.array([[1, 2, 4],[3, 4, 8],[5, 6, 7],[6, 7, 2],[8, 9, 7],[10, 11, 3],[12, 13, 4]])\n",
    "newarr = np.array_split(arr, 5)\n",
    "print(arr)"
   ]
  },
  {
   "cell_type": "code",
   "execution_count": 142,
   "id": "e1bab20a",
   "metadata": {},
   "outputs": [
    {
     "name": "stdout",
     "output_type": "stream",
     "text": [
      "[[ 1]\n",
      " [ 3]\n",
      " [ 5]\n",
      " [ 6]\n",
      " [ 8]\n",
      " [10]\n",
      " [12]]\n",
      "[[ 2]\n",
      " [ 4]\n",
      " [ 6]\n",
      " [ 7]\n",
      " [ 9]\n",
      " [11]\n",
      " [13]]\n",
      "[[4]\n",
      " [8]\n",
      " [7]\n",
      " [2]\n",
      " [7]\n",
      " [3]\n",
      " [4]]\n",
      "[]\n",
      "[]\n"
     ]
    }
   ],
   "source": [
    "import numpy as np\n",
    "arr = np.array([[1, 2, 4],[3, 4, 8],[5, 6, 7],[6, 7, 2],[8, 9, 7],[10, 11, 3],[12, 13, 4]])\n",
    "newarr = np.array_split(arr, 5, axis = 1) # axis = 1 is for colomn\n",
    "# print(newarr)\n",
    "for ele in range(len(newarr)):\n",
    "    print(newarr[ele])"
   ]
  },
  {
   "cell_type": "code",
   "execution_count": 146,
   "id": "e1211cdd",
   "metadata": {},
   "outputs": [
    {
     "name": "stdout",
     "output_type": "stream",
     "text": [
      "[array([[ 1],\n",
      "       [ 3],\n",
      "       [ 5],\n",
      "       [ 6],\n",
      "       [ 8],\n",
      "       [10],\n",
      "       [12]]), array([[ 2],\n",
      "       [ 4],\n",
      "       [ 6],\n",
      "       [ 7],\n",
      "       [ 9],\n",
      "       [11],\n",
      "       [13]]), array([[4],\n",
      "       [8],\n",
      "       [7],\n",
      "       [2],\n",
      "       [7],\n",
      "       [3],\n",
      "       [4]])]\n"
     ]
    }
   ],
   "source": [
    "# hsplit() is opposite to hstack()\n",
    "import numpy as np\n",
    "arr = np.array([[1, 2, 4],[3, 4, 8],[5, 6, 7],[6, 7, 2],[8, 9, 7],[10, 11, 3],[12, 13, 4]])\n",
    "newarr = np.hsplit(arr, 3) \n",
    "print(newarr)"
   ]
  },
  {
   "cell_type": "code",
   "execution_count": 149,
   "id": "3fb857d8",
   "metadata": {},
   "outputs": [
    {
     "name": "stdout",
     "output_type": "stream",
     "text": [
      "[[1 2 4]]\n",
      "[[3 4 8]]\n",
      "[[5 6 7]]\n",
      "[[6 7 2]]\n",
      "[[8 9 7]]\n",
      "[[10 11  3]]\n",
      "[[12 13  4]]\n"
     ]
    }
   ],
   "source": [
    "# vstack() and dstack() is similar to\n",
    "# vsplit() and dsplit()\n",
    "import numpy as np\n",
    "arr = np.array([[1, 2, 4],[3, 4, 8],[5, 6, 7],[6, 7, 2],[8, 9, 7],[10, 11, 3],[12, 13, 4]])\n",
    "newarr = np.vsplit(arr, 7)\n",
    "\n",
    "for ele in newarr:\n",
    "    print(ele)"
   ]
  },
  {
   "cell_type": "code",
   "execution_count": 152,
   "id": "2a4b4a00",
   "metadata": {},
   "outputs": [
    {
     "name": "stdout",
     "output_type": "stream",
     "text": [
      "(array([3]),)\n"
     ]
    }
   ],
   "source": [
    "# NUMPY SEARCHING ARRAY\n",
    "# Searching arrays\n",
    "# you can a search a specific value we get the index value to find the number\n",
    "# to search the array we use the where() method\n",
    "import numpy as np\n",
    "arr = np.array([1, 2, 3, 4, 5, 6, 7, 8])\n",
    "x = np.where(arr == 4) # returns the index value which satisfies the condition\n",
    "print(x)"
   ]
  },
  {
   "cell_type": "code",
   "execution_count": 155,
   "id": "c0b59ef4",
   "metadata": {},
   "outputs": [
    {
     "name": "stdout",
     "output_type": "stream",
     "text": [
      "(array([3, 5, 7]),)\n"
     ]
    }
   ],
   "source": [
    "import numpy as np\n",
    "arr = np.array([1, 2, 3, 4, 5, 4, 7, 4])\n",
    "x = np.where(arr == 4)\n",
    "print(x)"
   ]
  },
  {
   "cell_type": "code",
   "execution_count": 156,
   "id": "c182a211",
   "metadata": {},
   "outputs": [
    {
     "name": "stdout",
     "output_type": "stream",
     "text": [
      "(array([3]),)\n"
     ]
    }
   ],
   "source": [
    "import numpy as np\n",
    "arr = np.array([1, 2, 3, 4])\n",
    "x = np.where(arr == 4)\n",
    "print(x)"
   ]
  },
  {
   "cell_type": "code",
   "execution_count": 157,
   "id": "36eae597",
   "metadata": {},
   "outputs": [
    {
     "name": "stdout",
     "output_type": "stream",
     "text": [
      "(array([1, 3, 5, 7]),)\n"
     ]
    }
   ],
   "source": [
    "# WE FIND THE EVEN NUMBER FROM THE ARRAY\n",
    "import numpy as np\n",
    "arr = np.array([1, 2, 3, 4, 5, 6, 7, 8, 9])\n",
    "x = np.where(arr%2 == 0)\n",
    "print(x)"
   ]
  },
  {
   "cell_type": "code",
   "execution_count": 158,
   "id": "38902ff8",
   "metadata": {},
   "outputs": [
    {
     "name": "stdout",
     "output_type": "stream",
     "text": [
      "(array([0, 2, 4, 6, 8]),)\n"
     ]
    }
   ],
   "source": [
    "import numpy as np\n",
    "arr = np.array([1, 2, 3, 4, 5, 6, 7, 8, 9])\n",
    "x = np.where(arr%2 == 1)\n",
    "print(x)"
   ]
  },
  {
   "cell_type": "code",
   "execution_count": 159,
   "id": "4d963375",
   "metadata": {},
   "outputs": [
    {
     "name": "stdout",
     "output_type": "stream",
     "text": [
      "1\n"
     ]
    }
   ],
   "source": [
    "# SEARCH SHORTED \n",
    "# searchsorted() to find its index value\n",
    "import numpy as np\n",
    "arr = np.array([6, 7, 8, 9])\n",
    "x = np.searchsorted(arr, 7)\n",
    "print(x)"
   ]
  },
  {
   "cell_type": "code",
   "execution_count": 161,
   "id": "d253d660",
   "metadata": {},
   "outputs": [
    {
     "name": "stdout",
     "output_type": "stream",
     "text": [
      "2\n"
     ]
    }
   ],
   "source": [
    "# search form right side\n",
    "import numpy as np\n",
    "arr = np.array([6, 7, 8, 9])\n",
    "x = np.searchsorted(arr, 7, side = 'right')\n",
    "print(x)"
   ]
  },
  {
   "cell_type": "code",
   "execution_count": 163,
   "id": "299be84b",
   "metadata": {},
   "outputs": [
    {
     "name": "stdout",
     "output_type": "stream",
     "text": [
      "[1 2 3]\n"
     ]
    }
   ],
   "source": [
    "import numpy as np\n",
    "arr = np.array([1, 3, 5, 7])\n",
    "x = np.searchsorted(arr, [2, 4, 6])\n",
    "print(x)"
   ]
  },
  {
   "cell_type": "code",
   "execution_count": 168,
   "id": "47094a73",
   "metadata": {},
   "outputs": [
    {
     "name": "stdout",
     "output_type": "stream",
     "text": [
      "[-6  3  5  6]\n"
     ]
    }
   ],
   "source": [
    "# NUMPY SORTING ARRAY\n",
    "# SORTING ARRAY\n",
    "# sort means putting elements in order sequence\n",
    "# order sequence in numeric, alphabet, ascending or descending.\n",
    "# the numpy ndarray object has a function called sort()\n",
    "import numpy as np\n",
    "arr = np.array([3, 6, 5, -6])\n",
    "print(np.sort(arr)) # sort numerically"
   ]
  },
  {
   "cell_type": "code",
   "execution_count": 169,
   "id": "6074ec80",
   "metadata": {},
   "outputs": [
    {
     "name": "stdout",
     "output_type": "stream",
     "text": [
      "['apple' 'ball' 'cat' 'egg' 'rinbow']\n"
     ]
    }
   ],
   "source": [
    "import numpy as np\n",
    "arr = np.array([\"egg\",\"apple\",\"rinbow\",\"cat\",\"ball\"])\n",
    "print(np.sort(arr)) # sort alphabetically"
   ]
  },
  {
   "cell_type": "code",
   "execution_count": 170,
   "id": "7464d23b",
   "metadata": {},
   "outputs": [
    {
     "name": "stdout",
     "output_type": "stream",
     "text": [
      "['fare' 'fight' 'flag' 'for' 'from']\n"
     ]
    }
   ],
   "source": [
    "import numpy as np\n",
    "arr = np.array([\"flag\",\"fight\",\"from\",\"for\",\"fare\"])\n",
    "print(np.sort(arr)) "
   ]
  },
  {
   "cell_type": "code",
   "execution_count": 171,
   "id": "f04ed13a",
   "metadata": {},
   "outputs": [
    {
     "name": "stdout",
     "output_type": "stream",
     "text": [
      "[[1 2]\n",
      " [3 4]]\n"
     ]
    }
   ],
   "source": [
    "import numpy as np\n",
    "arr = np.array([[1, 2],[3, 4]])\n",
    "print(np.sort(arr)) "
   ]
  },
  {
   "cell_type": "code",
   "execution_count": 172,
   "id": "51823f59",
   "metadata": {},
   "outputs": [
    {
     "name": "stdout",
     "output_type": "stream",
     "text": [
      "[[1 2 5]\n",
      " [1 4 6]]\n"
     ]
    }
   ],
   "source": [
    "import numpy as np\n",
    "arr = np.array([[1, 5, 2],[6, 4, 1]])\n",
    "print(np.sort(arr))"
   ]
  },
  {
   "cell_type": "code",
   "execution_count": 174,
   "id": "6a213ea2",
   "metadata": {},
   "outputs": [
    {
     "name": "stdout",
     "output_type": "stream",
     "text": [
      "[41 43]\n"
     ]
    }
   ],
   "source": [
    "import numpy as np\n",
    "arr = np.array([41, 42 , 43, 44])\n",
    "x = [True, False, True, False]\n",
    "\n",
    "newarr = arr[x]\n",
    "print(newarr)"
   ]
  },
  {
   "cell_type": "code",
   "execution_count": 175,
   "id": "cadf94a6",
   "metadata": {},
   "outputs": [
    {
     "name": "stdout",
     "output_type": "stream",
     "text": [
      "[False, False, True, True]\n",
      "[43 44]\n"
     ]
    }
   ],
   "source": [
    "# creating the filter array\n",
    "import numpy as np\n",
    "arr = np.array([41, 42, 43, 44])\n",
    "\n",
    "#create an empty list\n",
    "filter_arr = []\n",
    "# go through the elementin array\n",
    "for element in arr:\n",
    "    # if the element is heigher then the 42,\n",
    "    # set the value to True, otherwise False:\n",
    "    if element > 42:\n",
    "        filter_arr.append(True)\n",
    "    else:\n",
    "        filter_arr.append(False)\n",
    "        \n",
    "newarr = arr[filter_arr]\n",
    "print(filter_arr)\n",
    "print(newarr)"
   ]
  },
  {
   "cell_type": "code",
   "execution_count": 176,
   "id": "c8e5093c",
   "metadata": {},
   "outputs": [
    {
     "name": "stdout",
     "output_type": "stream",
     "text": [
      "[False, True, False, True, False, True, False, True, False]\n",
      "[2 4 6 8]\n"
     ]
    }
   ],
   "source": [
    "# craeting the filter array\n",
    "import numpy as np\n",
    "arr = np.array([1, 2, 3, 4, 5, 6, 7, 8, 9])\n",
    "\n",
    "#craete an empty list\n",
    "filter_arr = []\n",
    "\n",
    "# go through the elementin array\n",
    "for element in arr:\n",
    "    # if the element is divisible by 2,\n",
    "    # set the value to True, otherwise False:\n",
    "    if element %2 == 0:\n",
    "        filter_arr.append(True)\n",
    "    else:\n",
    "        filter_arr.append(False)\n",
    "        \n",
    "newarr = arr[filter_arr]\n",
    "print(filter_arr)\n",
    "print(newarr)"
   ]
  },
  {
   "cell_type": "code",
   "execution_count": 177,
   "id": "a9c83753",
   "metadata": {},
   "outputs": [
    {
     "name": "stdout",
     "output_type": "stream",
     "text": [
      "[False False  True  True]\n",
      "[43 44]\n"
     ]
    }
   ],
   "source": [
    "import numpy as np\n",
    "arr = np.array([41, 42, 43, 44])\n",
    "filter_arr = arr > 42 # returns a boolean array\n",
    "newarr = arr[filter_arr] # returns the elements of the boolean array\n",
    "print(filter_arr)\n",
    "print(newarr)"
   ]
  },
  {
   "cell_type": "code",
   "execution_count": 178,
   "id": "ff85d9d5",
   "metadata": {},
   "outputs": [
    {
     "name": "stdout",
     "output_type": "stream",
     "text": [
      "[False  True False  True]\n",
      "[42 44]\n"
     ]
    }
   ],
   "source": [
    "import numpy as np\n",
    "arr = np.array([41, 42, 43, 44])\n",
    "filter_arr = arr % 2 == 0\n",
    "newarr = arr[filter_arr]\n",
    "print(filter_arr)\n",
    "print(newarr)"
   ]
  },
  {
   "cell_type": "code",
   "execution_count": null,
   "id": "084f1cda",
   "metadata": {},
   "outputs": [],
   "source": []
  }
 ],
 "metadata": {
  "kernelspec": {
   "display_name": "m3",
   "language": "python",
   "name": "python3"
  },
  "language_info": {
   "codemirror_mode": {
    "name": "ipython",
    "version": 3
   },
   "file_extension": ".py",
   "mimetype": "text/x-python",
   "name": "python",
   "nbconvert_exporter": "python",
   "pygments_lexer": "ipython3",
   "version": "3.10.12"
  }
 },
 "nbformat": 4,
 "nbformat_minor": 5
}
