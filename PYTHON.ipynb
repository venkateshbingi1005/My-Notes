{
 "cells": [
  {
   "cell_type": "markdown",
   "id": "4e9b62ef",
   "metadata": {},
   "source": [
    "# PYTHON 3 BEGINNER NOTES"
   ]
  },
  {
   "cell_type": "code",
   "execution_count": 2,
   "id": "d23aaf63",
   "metadata": {},
   "outputs": [
    {
     "name": "stdout",
     "output_type": "stream",
     "text": [
      "Hello world\n"
     ]
    }
   ],
   "source": [
    "print(\"Hello world\")"
   ]
  },
  {
   "cell_type": "code",
   "execution_count": 3,
   "id": "10c10482",
   "metadata": {},
   "outputs": [
    {
     "name": "stdout",
     "output_type": "stream",
     "text": [
      "10\n"
     ]
    }
   ],
   "source": [
    "a,b=(10,20)\n",
    "print(a)"
   ]
  },
  {
   "cell_type": "code",
   "execution_count": 4,
   "id": "091591d7",
   "metadata": {},
   "outputs": [
    {
     "name": "stdout",
     "output_type": "stream",
     "text": [
      "20\n"
     ]
    }
   ],
   "source": [
    "print(b)"
   ]
  },
  {
   "cell_type": "code",
   "execution_count": 5,
   "id": "e584fda4",
   "metadata": {},
   "outputs": [
    {
     "name": "stdout",
     "output_type": "stream",
     "text": [
      "3\n"
     ]
    }
   ],
   "source": [
    "x,y=[3,5]\n",
    "print(x)"
   ]
  },
  {
   "cell_type": "code",
   "execution_count": 43,
   "id": "72f95aac",
   "metadata": {},
   "outputs": [
    {
     "name": "stdout",
     "output_type": "stream",
     "text": [
      "Hello\n"
     ]
    }
   ],
   "source": [
    "str=\"Hello\"\n",
    "print(str)"
   ]
  },
  {
   "cell_type": "code",
   "execution_count": null,
   "id": "4bde9520",
   "metadata": {},
   "outputs": [
    {
     "name": "stdout",
     "output_type": "stream",
     "text": [
      "x= 50\n",
      "y= 60\n"
     ]
    }
   ],
   "source": [
    "x,y=(50,60)\n",
    "print('x=',x)\n",
    "print(\"y=\",y)"
   ]
  },
  {
   "cell_type": "code",
   "execution_count": 7,
   "id": "8dcd10c2",
   "metadata": {},
   "outputs": [
    {
     "name": "stdout",
     "output_type": "stream",
     "text": [
      "x= 50 y= 60\n"
     ]
    }
   ],
   "source": [
    "x,y=(50,60)\n",
    "print('x=',x,\"y=\",y)"
   ]
  },
  {
   "cell_type": "code",
   "execution_count": 8,
   "id": "3026a28b",
   "metadata": {},
   "outputs": [
    {
     "name": "stdout",
     "output_type": "stream",
     "text": [
      "(a,b,c)= (20, 330, 40)\n"
     ]
    }
   ],
   "source": [
    "a,b,c=20,330,40\n",
    "print(\"(a,b,c)=\",(a,b,c))"
   ]
  },
  {
   "cell_type": "code",
   "execution_count": 10,
   "id": "eaa4e5d4",
   "metadata": {},
   "outputs": [
    {
     "name": "stdout",
     "output_type": "stream",
     "text": [
      "h\n"
     ]
    }
   ],
   "source": [
    "p,*q=\"hello\" \n",
    "print(p)"
   ]
  },
  {
   "cell_type": "code",
   "execution_count": 11,
   "id": "4e266918",
   "metadata": {},
   "outputs": [
    {
     "name": "stdout",
     "output_type": "stream",
     "text": [
      "['e', 'l', 'l', 'o']\n"
     ]
    }
   ],
   "source": [
    "print(q)"
   ]
  },
  {
   "cell_type": "code",
   "execution_count": 13,
   "id": "5fd58937",
   "metadata": {},
   "outputs": [
    {
     "name": "stdout",
     "output_type": "stream",
     "text": [
      "['e', 'n', 'k', 'a', 't', 'e', 's', 'h']\n"
     ]
    }
   ],
   "source": [
    "s,*n=\"venkatesh\"\n",
    "print(n)"
   ]
  },
  {
   "cell_type": "code",
   "execution_count": 14,
   "id": "abaa501b",
   "metadata": {},
   "outputs": [
    {
     "name": "stdout",
     "output_type": "stream",
     "text": [
      "v\n"
     ]
    }
   ],
   "source": [
    "print(s)"
   ]
  },
  {
   "cell_type": "code",
   "execution_count": 15,
   "id": "92e1f19e",
   "metadata": {},
   "outputs": [
    {
     "name": "stdout",
     "output_type": "stream",
     "text": [
      "['e', 'n', 'k', 'a', 't', 'e', 's', 'h']\n"
     ]
    }
   ],
   "source": [
    "n,*s=\"venkatesh\"\n",
    "print(s)"
   ]
  },
  {
   "cell_type": "code",
   "execution_count": 17,
   "id": "9d116724",
   "metadata": {},
   "outputs": [
    {
     "name": "stdout",
     "output_type": "stream",
     "text": [
      "1729\n"
     ]
    }
   ],
   "source": [
    "a=b=c=1729\n",
    "print(a)"
   ]
  },
  {
   "cell_type": "code",
   "execution_count": 18,
   "id": "70d972d4",
   "metadata": {},
   "outputs": [
    {
     "name": "stdout",
     "output_type": "stream",
     "text": [
      "1729\n"
     ]
    }
   ],
   "source": [
    "print(a)"
   ]
  },
  {
   "cell_type": "code",
   "execution_count": 19,
   "id": "f9af96db",
   "metadata": {},
   "outputs": [
    {
     "name": "stdout",
     "output_type": "stream",
     "text": [
      "1729\n"
     ]
    }
   ],
   "source": [
    "print(b)"
   ]
  },
  {
   "cell_type": "code",
   "execution_count": 20,
   "id": "94994af1",
   "metadata": {},
   "outputs": [
    {
     "name": "stdout",
     "output_type": "stream",
     "text": [
      "the value of a= 162\n"
     ]
    }
   ],
   "source": [
    "x=81\n",
    "a=x+81\n",
    "print(\"the value of a=\",a)"
   ]
  },
  {
   "cell_type": "code",
   "execution_count": 21,
   "id": "d197c4e0",
   "metadata": {},
   "outputs": [
    {
     "name": "stdout",
     "output_type": "stream",
     "text": [
      "<class 'int'>\n"
     ]
    }
   ],
   "source": [
    "a=5\n",
    "print(type(a))"
   ]
  },
  {
   "cell_type": "code",
   "execution_count": 97,
   "id": "a3c0ae2b",
   "metadata": {},
   "outputs": [
    {
     "name": "stdout",
     "output_type": "stream",
     "text": [
      "1\n"
     ]
    }
   ],
   "source": [
    "print(int(True)) #True=1"
   ]
  },
  {
   "cell_type": "code",
   "execution_count": 98,
   "id": "4f4bea36",
   "metadata": {},
   "outputs": [
    {
     "name": "stdout",
     "output_type": "stream",
     "text": [
      "0\n"
     ]
    }
   ],
   "source": [
    "print(int(False)) #False=0"
   ]
  },
  {
   "cell_type": "code",
   "execution_count": 99,
   "id": "a267ffd4",
   "metadata": {},
   "outputs": [
    {
     "name": "stdout",
     "output_type": "stream",
     "text": [
      "2\n"
     ]
    }
   ],
   "source": [
    "print(int(True+True)) "
   ]
  },
  {
   "cell_type": "code",
   "execution_count": 100,
   "id": "5de0582c",
   "metadata": {},
   "outputs": [
    {
     "name": "stdout",
     "output_type": "stream",
     "text": [
      "1\n"
     ]
    }
   ],
   "source": [
    "print(int(True+False))"
   ]
  },
  {
   "cell_type": "code",
   "execution_count": 101,
   "id": "ede2e4c9",
   "metadata": {},
   "outputs": [
    {
     "name": "stdout",
     "output_type": "stream",
     "text": [
      "<class 'float'>\n"
     ]
    }
   ],
   "source": [
    "a=5.6\n",
    "print(type(a))"
   ]
  },
  {
   "cell_type": "code",
   "execution_count": 102,
   "id": "f985d82a",
   "metadata": {},
   "outputs": [
    {
     "name": "stdout",
     "output_type": "stream",
     "text": [
      "10.5\n"
     ]
    }
   ],
   "source": [
    "print(float(\"10.5\")) #type casting"
   ]
  },
  {
   "cell_type": "code",
   "execution_count": 28,
   "id": "7213a670",
   "metadata": {},
   "outputs": [
    {
     "name": "stdout",
     "output_type": "stream",
     "text": [
      "10.0\n"
     ]
    }
   ],
   "source": [
    "print(float(\"10\"))"
   ]
  },
  {
   "cell_type": "code",
   "execution_count": 29,
   "id": "4f15f033",
   "metadata": {},
   "outputs": [
    {
     "name": "stdout",
     "output_type": "stream",
     "text": [
      "2.0\n"
     ]
    }
   ],
   "source": [
    "print(float(True+True))"
   ]
  },
  {
   "cell_type": "code",
   "execution_count": 30,
   "id": "46898b7c",
   "metadata": {},
   "outputs": [
    {
     "name": "stdout",
     "output_type": "stream",
     "text": [
      "10.5\n"
     ]
    }
   ],
   "source": [
    "print(float(\"10.5\"))"
   ]
  },
  {
   "cell_type": "code",
   "execution_count": 31,
   "id": "66fe2e13",
   "metadata": {},
   "outputs": [
    {
     "name": "stdout",
     "output_type": "stream",
     "text": [
      "(10+0j)\n"
     ]
    }
   ],
   "source": [
    "print(complex(10))"
   ]
  },
  {
   "cell_type": "code",
   "execution_count": 32,
   "id": "eb9486f4",
   "metadata": {},
   "outputs": [
    {
     "name": "stdout",
     "output_type": "stream",
     "text": [
      "(10.5+0j)\n"
     ]
    }
   ],
   "source": [
    "print(complex(10.5))"
   ]
  },
  {
   "cell_type": "code",
   "execution_count": 33,
   "id": "8d714fff",
   "metadata": {},
   "outputs": [
    {
     "name": "stdout",
     "output_type": "stream",
     "text": [
      "(2+0j)\n"
     ]
    }
   ],
   "source": [
    "print(complex(True+True+False)) "
   ]
  },
  {
   "cell_type": "code",
   "execution_count": 34,
   "id": "10d721bb",
   "metadata": {},
   "outputs": [
    {
     "name": "stdout",
     "output_type": "stream",
     "text": [
      "False\n"
     ]
    }
   ],
   "source": [
    "print(bool(0))"
   ]
  },
  {
   "cell_type": "code",
   "execution_count": 35,
   "id": "98456b08",
   "metadata": {},
   "outputs": [
    {
     "name": "stdout",
     "output_type": "stream",
     "text": [
      "True\n"
     ]
    }
   ],
   "source": [
    "print(bool(10))"
   ]
  },
  {
   "cell_type": "code",
   "execution_count": 36,
   "id": "d6265c20",
   "metadata": {},
   "outputs": [
    {
     "name": "stdout",
     "output_type": "stream",
     "text": [
      "True\n"
     ]
    }
   ],
   "source": [
    "print(bool(-105))"
   ]
  },
  {
   "cell_type": "code",
   "execution_count": 37,
   "id": "fba88b3d",
   "metadata": {},
   "outputs": [
    {
     "name": "stdout",
     "output_type": "stream",
     "text": [
      "False\n"
     ]
    }
   ],
   "source": [
    "print(bool(0+0j))"
   ]
  },
  {
   "cell_type": "code",
   "execution_count": 38,
   "id": "3cdf4724",
   "metadata": {},
   "outputs": [
    {
     "name": "stdout",
     "output_type": "stream",
     "text": [
      "True\n"
     ]
    }
   ],
   "source": [
    "print(bool(True))"
   ]
  },
  {
   "cell_type": "code",
   "execution_count": 39,
   "id": "467e50d0",
   "metadata": {},
   "outputs": [
    {
     "name": "stdout",
     "output_type": "stream",
     "text": [
      "False\n"
     ]
    }
   ],
   "source": [
    "print(bool(False))"
   ]
  },
  {
   "cell_type": "code",
   "execution_count": 40,
   "id": "514eeeb8",
   "metadata": {},
   "outputs": [
    {
     "name": "stdout",
     "output_type": "stream",
     "text": [
      "hello\n"
     ]
    }
   ],
   "source": [
    "a=\"hello\"\n",
    "print(a)"
   ]
  },
  {
   "cell_type": "code",
   "execution_count": 46,
   "id": "c9783ed2",
   "metadata": {},
   "outputs": [
    {
     "name": "stdout",
     "output_type": "stream",
     "text": [
      "<class 'int'>\n",
      "<class 'float'>\n",
      "<class 'str'>\n",
      "venkatesh\n",
      "2.0\n"
     ]
    }
   ],
   "source": [
    "a=2\n",
    "b=9.8\n",
    "c=\"venkatesh\"\n",
    "str=\"venkatesh\"\n",
    "print(type(a))\n",
    "print(type(b))\n",
    "print(type(c))\n",
    "print(str)\n",
    "print(float(a))"
   ]
  },
  {
   "cell_type": "code",
   "execution_count": 47,
   "id": "edfc4bf1",
   "metadata": {},
   "outputs": [
    {
     "name": "stdout",
     "output_type": "stream",
     "text": [
      "(x,y)= (20, 30)\n",
      "x= 20 y= 30\n"
     ]
    }
   ],
   "source": [
    "x,y=(20,30)\n",
    "print(\"(x,y)=\",(x,y))\n",
    "print('x=',x,\"y=\",y)"
   ]
  },
  {
   "cell_type": "code",
   "execution_count": 48,
   "id": "c6e93d9d",
   "metadata": {},
   "outputs": [
    {
     "name": "stdout",
     "output_type": "stream",
     "text": [
      "v\n",
      "e\n",
      "n\n",
      "['k', 'a', 't', 'e', 's', 'h', '1', '7', '2', '9']\n",
      "['2', '3', '4', '5', '6', '7', '8', '9']\n"
     ]
    }
   ],
   "source": [
    "s,n,v,*r=\"venkatesh1729\"\n",
    "k,*g=\"123456789\"\n",
    "print(s)\n",
    "print(n)\n",
    "print(v)\n",
    "print(r)\n",
    "print(g)"
   ]
  },
  {
   "cell_type": "code",
   "execution_count": 50,
   "id": "5396512b",
   "metadata": {},
   "outputs": [
    {
     "name": "stdout",
     "output_type": "stream",
     "text": [
      "value a= 1729\n",
      "value b= 1729\n",
      "value c= 1729\n"
     ]
    }
   ],
   "source": [
    "a=b=c=1729\n",
    "print(\"value a=\",a)\n",
    "print(\"value b=\",b)\n",
    "print(\"value c=\",c)"
   ]
  },
  {
   "cell_type": "code",
   "execution_count": 51,
   "id": "db22d5e1",
   "metadata": {},
   "outputs": [
    {
     "name": "stdout",
     "output_type": "stream",
     "text": [
      "value of a= 2725\n",
      "value of b= 944\n",
      "value of c= 31872\n",
      "True\n",
      "False\n"
     ]
    }
   ],
   "source": [
    "x=996\n",
    "a=x+1729\n",
    "b=x-52\n",
    "c=x*32\n",
    "d=x<a\n",
    "e=x>c\n",
    "print(\"value of a=\",a)\n",
    "print(\"value of b=\",b)\n",
    "print(\"value of c=\",c)\n",
    "print(d)\n",
    "print(e)"
   ]
  },
  {
   "cell_type": "code",
   "execution_count": 52,
   "id": "7dc487c7",
   "metadata": {},
   "outputs": [
    {
     "name": "stdout",
     "output_type": "stream",
     "text": [
      "(c,d)= (662.6, 34455.200000000004)\n",
      "True\n",
      "<class 'float'>\n",
      "<class 'float'>\n",
      "1\n",
      "['2', '3', '4', '5', '6', '7', '8', '9', '9']\n"
     ]
    }
   ],
   "source": [
    "x,y=(20,30.6)\n",
    "a=x+y\n",
    "b=x*y\n",
    "f=y>x\n",
    "c=a+b\n",
    "d=c*52\n",
    "l,m=(c,d)\n",
    "print(\"(c,d)=\",(c,d))\n",
    "print(f)\n",
    "print(type(c))\n",
    "print(type(d))\n",
    "p,*q=\"1234567899\"\n",
    "print(p)\n",
    "print(q)"
   ]
  },
  {
   "cell_type": "code",
   "execution_count": 56,
   "id": "25e83562",
   "metadata": {},
   "outputs": [
    {
     "data": {
      "text/plain": [
       "(20, 60)"
      ]
     },
     "execution_count": 56,
     "metadata": {},
     "output_type": "execute_result"
    }
   ],
   "source": [
    "a=int(input())\n",
    "b=int(input())\n",
    "\n",
    "a, b"
   ]
  },
  {
   "cell_type": "code",
   "execution_count": 57,
   "id": "987882b5",
   "metadata": {},
   "outputs": [
    {
     "name": "stdout",
     "output_type": "stream",
     "text": [
      "80\n"
     ]
    }
   ],
   "source": [
    "print(a+b)"
   ]
  },
  {
   "cell_type": "code",
   "execution_count": 58,
   "id": "4ccb276c",
   "metadata": {},
   "outputs": [
    {
     "name": "stdout",
     "output_type": "stream",
     "text": [
      "a\n"
     ]
    }
   ],
   "source": [
    "print(\"a\")"
   ]
  },
  {
   "cell_type": "code",
   "execution_count": 61,
   "id": "594b3b40",
   "metadata": {},
   "outputs": [
    {
     "data": {
      "text/plain": [
       "9"
      ]
     },
     "execution_count": 61,
     "metadata": {},
     "output_type": "execute_result"
    }
   ],
   "source": [
    "a=int(input()) #input from user\n",
    "a=int(input(\"enter the value for varible a:\"))\n",
    "a"
   ]
  },
  {
   "cell_type": "code",
   "execution_count": 62,
   "id": "8a23e1d7",
   "metadata": {},
   "outputs": [
    {
     "data": {
      "text/plain": [
       "1729"
      ]
     },
     "execution_count": 62,
     "metadata": {},
     "output_type": "execute_result"
    }
   ],
   "source": [
    "a=int(input(\"enter the value of a \"))\n",
    "a"
   ]
  },
  {
   "cell_type": "code",
   "execution_count": 63,
   "id": "c433f216",
   "metadata": {},
   "outputs": [
    {
     "name": "stdout",
     "output_type": "stream",
     "text": [
      "hello!\n",
      "welcome to python\n"
     ]
    }
   ],
   "source": [
    "print(\"hello!\")\n",
    "print(\"welcome to python\")"
   ]
  },
  {
   "cell_type": "code",
   "execution_count": 65,
   "id": "1bf87052",
   "metadata": {},
   "outputs": [
    {
     "name": "stdout",
     "output_type": "stream",
     "text": [
      "['10', '30', '50', '20', '40']\n"
     ]
    }
   ],
   "source": [
    "a=input().split(\" \") #split formate\n",
    "print(a)\n"
   ]
  },
  {
   "cell_type": "code",
   "execution_count": 68,
   "id": "6217b87e",
   "metadata": {},
   "outputs": [
    {
     "name": "stdout",
     "output_type": "stream",
     "text": [
      "hello! welocome to python this is venkatesh bingi\n"
     ]
    }
   ],
   "source": [
    "print(\"hello!\",\"welocome\",\"to\",\"python\",end=\" \") #by default end=\"\\n\"\n",
    "print(\"this is venkatesh bingi\",sep=\"\\n\") #by default sep=\" \""
   ]
  },
  {
   "cell_type": "code",
   "execution_count": 70,
   "id": "0abd864a",
   "metadata": {},
   "outputs": [
    {
     "name": "stdout",
     "output_type": "stream",
     "text": [
      "sum: 60\n",
      "multipilication: 6000\n",
      "division: 0.016666666666666666\n"
     ]
    }
   ],
   "source": [
    "a=10\n",
    "b=20\n",
    "c=30\n",
    "\n",
    "print(\"sum:\",(a+b+c))\n",
    "print(\"multipilication:\",(a*b*c))\n",
    "print(\"division:\",(a/b/c))"
   ]
  },
  {
   "cell_type": "code",
   "execution_count": 96,
   "id": "3d372af7",
   "metadata": {},
   "outputs": [
    {
     "name": "stdout",
     "output_type": "stream",
     "text": [
      "20 is an integer and 60.523000 is float\n",
      "a is an interger 20 and b is a float 60.523\n",
      "a=20 is an integer and b=60.5 is a float\n",
      "20 is an ineger 60.523 is afloat\n",
      "5.523806128820348e+78\n",
      "80.523\n",
      "-40.523\n",
      "0.33045288567982417\n",
      "0.0\n",
      "1210.46\n",
      "20.0\n"
     ]
    }
   ],
   "source": [
    "a=20\n",
    "b=60.523\n",
    "print(\"%d is an integer and %f is float\"%(a,b))\n",
    "print(\"a is an interger\",(a),\"and b is a float\",(b))\n",
    "print(\"a=%d is an integer\"%(a),\"and b=%.1f is a float\"%(b))\n",
    "print(a,\"is an ineger\",b,\"is afloat\")\n",
    "print(a**b,a+b,a-b,a/b,a//b,a*b,a%b,sep=\"\\n\")"
   ]
  },
  {
   "cell_type": "code",
   "execution_count": 74,
   "id": "9e274658",
   "metadata": {},
   "outputs": [
    {
     "name": "stdout",
     "output_type": "stream",
     "text": [
      "0\n",
      "1.9111111111111914\n",
      "False True False True True False\n"
     ]
    }
   ],
   "source": [
    "a+=60   #a=a+60\n",
    "a-=60   #a=a-60\n",
    "b*=20   #b=b*20\n",
    "b/=3    #b=b/3\n",
    "b%=2    #b=b%2\n",
    "a//=5   #b=b//5\n",
    "print(a) \n",
    "print(b)\n",
    "print(a==b,a<b,a>b,a!=b,a<=b,a>=b) #comparison"
   ]
  },
  {
   "cell_type": "code",
   "execution_count": 76,
   "id": "7d0842b2",
   "metadata": {},
   "outputs": [
    {
     "name": "stdout",
     "output_type": "stream",
     "text": [
      "a is not equal to b\n"
     ]
    }
   ],
   "source": [
    "if a==b:\n",
    "    if a>b:\n",
    "        print(\"a is equal to b\")\n",
    "        print(\"a is greater than b\")\n",
    "    elif b>a:\n",
    "        print(\"b is greater than a\")\n",
    "else:\n",
    "    print(\"a is not equal to b\")\n"
   ]
  },
  {
   "cell_type": "code",
   "execution_count": 95,
   "id": "f86cf1af",
   "metadata": {},
   "outputs": [
    {
     "name": "stdout",
     "output_type": "stream",
     "text": [
      "0 6 -5 -3\n",
      "1 0 16 8\n",
      "True True\n",
      "False True True True False False\n"
     ]
    }
   ],
   "source": [
    "a=4\n",
    "b=2 \n",
    "c=1\n",
    "print(a&b,a^b,~a,~b) #bitwise\n",
    "print(a>>2,b>>2,a<<2,b<<2) #bitwise\n",
    "print((a>b and a>c),(b>a or b>c)) #logical\n",
    "print(not a>b,not b>a,not c>a,not c>b,not b>c,not a>c) #logical\n",
    "\n",
    "# Refer this: https://www.geeksforgeeks.org/python-bitwise-operators/"
   ]
  },
  {
   "cell_type": "code",
   "execution_count": 93,
   "id": "2dde69a0",
   "metadata": {},
   "outputs": [
    {
     "name": "stdout",
     "output_type": "stream",
     "text": [
      "3.3333333333333335\n"
     ]
    }
   ],
   "source": [
    "print(10/3) #division"
   ]
  },
  {
   "cell_type": "code",
   "execution_count": 94,
   "id": "cbf35cfa",
   "metadata": {},
   "outputs": [
    {
     "name": "stdout",
     "output_type": "stream",
     "text": [
      "3\n"
     ]
    }
   ],
   "source": [
    "print(10//3) #floor division"
   ]
  },
  {
   "cell_type": "code",
   "execution_count": 79,
   "id": "a38d36d6",
   "metadata": {},
   "outputs": [
    {
     "name": "stdout",
     "output_type": "stream",
     "text": [
      "True\n",
      "False\n"
     ]
    }
   ],
   "source": [
    "a=10\n",
    "b=20\n",
    "c=a<b\n",
    "d=a>=b\n",
    "print(c)\n",
    "print(d)"
   ]
  },
  {
   "cell_type": "code",
   "execution_count": 82,
   "id": "3e37c0dd",
   "metadata": {},
   "outputs": [
    {
     "name": "stdout",
     "output_type": "stream",
     "text": [
      "False\n",
      "True\n"
     ]
    }
   ],
   "source": [
    "a=150\n",
    "b=100\n",
    "c=a<b\n",
    "d=a>b\n",
    "print(c)\n",
    "print(d)"
   ]
  },
  {
   "cell_type": "code",
   "execution_count": 91,
   "id": "695d6ad4",
   "metadata": {},
   "outputs": [
    {
     "name": "stdout",
     "output_type": "stream",
     "text": [
      "c = 3.333\n"
     ]
    }
   ],
   "source": [
    "c=10/3\n",
    "print(\"c = %.3f\" %c) #3 decimal places"
   ]
  },
  {
   "cell_type": "code",
   "execution_count": 92,
   "id": "548b13c1",
   "metadata": {},
   "outputs": [
    {
     "name": "stdout",
     "output_type": "stream",
     "text": [
      "36\n"
     ]
    }
   ],
   "source": [
    "print(6**2) #Power"
   ]
  },
  {
   "cell_type": "code",
   "execution_count": 103,
   "id": "18af33cc",
   "metadata": {},
   "outputs": [
    {
     "name": "stdout",
     "output_type": "stream",
     "text": [
      "50\n"
     ]
    }
   ],
   "source": [
    "a=20\n",
    "b=20\n",
    "a+=30\n",
    "print(a)"
   ]
  },
  {
   "cell_type": "code",
   "execution_count": 104,
   "id": "07714a3a",
   "metadata": {},
   "outputs": [
    {
     "name": "stdout",
     "output_type": "stream",
     "text": [
      "4\n",
      "1.4866666666666788\n"
     ]
    }
   ],
   "source": [
    "a=20\n",
    "b=60.523\n",
    "a+=60\n",
    "a-=60\n",
    "b*=20\n",
    "b/=3\n",
    "b%=2\n",
    "a//=5\n",
    "print(a,sep=\" \")\n",
    "print(b,sep=\" \")\n",
    "a=4\n",
    "b=2"
   ]
  },
  {
   "cell_type": "code",
   "execution_count": 105,
   "id": "3ba1cfdf",
   "metadata": {},
   "outputs": [
    {
     "name": "stdout",
     "output_type": "stream",
     "text": [
      "80\n"
     ]
    }
   ],
   "source": [
    "a=20\n",
    "a+=60\n",
    "print(a)"
   ]
  },
  {
   "cell_type": "code",
   "execution_count": 106,
   "id": "4baf35fd",
   "metadata": {},
   "outputs": [
    {
     "name": "stdout",
     "output_type": "stream",
     "text": [
      "-40\n"
     ]
    }
   ],
   "source": [
    "a=20\n",
    "a-=60\n",
    "print(a)"
   ]
  },
  {
   "cell_type": "code",
   "execution_count": 107,
   "id": "ec4ba4e4",
   "metadata": {},
   "outputs": [
    {
     "name": "stdout",
     "output_type": "stream",
     "text": [
      "0\n"
     ]
    }
   ],
   "source": [
    "a=20\n",
    "a//=60\n",
    "print(a)"
   ]
  },
  {
   "cell_type": "code",
   "execution_count": 108,
   "id": "0cb0253b",
   "metadata": {},
   "outputs": [
    {
     "name": "stdout",
     "output_type": "stream",
     "text": [
      "4\n"
     ]
    }
   ],
   "source": [
    "a=20\n",
    "a+=60\n",
    "a-=60\n",
    "a//=5\n",
    "print(a,sep=\" \")"
   ]
  },
  {
   "cell_type": "code",
   "execution_count": 109,
   "id": "38d0d8b9",
   "metadata": {},
   "outputs": [
    {
     "name": "stdout",
     "output_type": "stream",
     "text": [
      "a not equal to b\n"
     ]
    }
   ],
   "source": [
    "a=20\n",
    "b=30\n",
    "if a==b:\n",
    "    print(\"a equal to b\")\n",
    "else:\n",
    "    print(\"a not equal to b\")"
   ]
  },
  {
   "cell_type": "code",
   "execution_count": 110,
   "id": "93d75c37",
   "metadata": {},
   "outputs": [
    {
     "name": "stdout",
     "output_type": "stream",
     "text": [
      "False False\n"
     ]
    }
   ],
   "source": [
    "a=20\n",
    "b=30\n",
    "print(a==b,a>b)"
   ]
  },
  {
   "cell_type": "code",
   "execution_count": 111,
   "id": "9f0b35af",
   "metadata": {},
   "outputs": [
    {
     "name": "stdout",
     "output_type": "stream",
     "text": [
      "False\n"
     ]
    }
   ],
   "source": [
    "a=20\n",
    "b=30\n",
    "c=50\n",
    "print(not b>a) "
   ]
  },
  {
   "cell_type": "code",
   "execution_count": 113,
   "id": "717784ef",
   "metadata": {},
   "outputs": [
    {
     "name": "stdout",
     "output_type": "stream",
     "text": [
      "-31\n"
     ]
    }
   ],
   "source": [
    "a=5\n",
    "print(~b) #bitwise not"
   ]
  },
  {
   "cell_type": "code",
   "execution_count": 114,
   "id": "ab53c40a",
   "metadata": {},
   "outputs": [
    {
     "name": "stdout",
     "output_type": "stream",
     "text": [
      "10 is greater\n"
     ]
    }
   ],
   "source": [
    "if 10>0:\n",
    "    #print(\"positive number\")\n",
    "    print(\"10 is greater\")\n",
    "else:\n",
    "    print(\"10 is smaller\")"
   ]
  },
  {
   "cell_type": "code",
   "execution_count": 115,
   "id": "1a4f6bf7",
   "metadata": {},
   "outputs": [
    {
     "name": "stdout",
     "output_type": "stream",
     "text": [
      "15 is greater\n"
     ]
    }
   ],
   "source": [
    "if 15>0:\n",
    "    \"\"\"print(\"positive number\")\"\"\"\n",
    "    print(\"15 is greater\")\n",
    "else:\n",
    "    print(\"negitive number\")"
   ]
  },
  {
   "cell_type": "code",
   "execution_count": 117,
   "id": "aa948e2c",
   "metadata": {},
   "outputs": [
    {
     "name": "stdout",
     "output_type": "stream",
     "text": [
      "1729 is positive number\n",
      "17 is less than 29\n"
     ]
    }
   ],
   "source": [
    "if int:\n",
    "    '''print(\" natural number\")'''\n",
    "    print(\"1729 is positive number\")\n",
    "    print(\"17 is less than 29\")\n",
    "else:\n",
    "    print(\"\")"
   ]
  },
  {
   "cell_type": "code",
   "execution_count": 119,
   "id": "cdbf7067",
   "metadata": {},
   "outputs": [
    {
     "name": "stdout",
     "output_type": "stream",
     "text": [
      "True\n"
     ]
    }
   ],
   "source": [
    "f=None\n",
    "\n",
    "for i in range(5):\n",
    "    with open(\"data.txt\",\"w\") as f:\n",
    "        if i>2:\n",
    "            break\n",
    "            \n",
    "print(f.closed)"
   ]
  },
  {
   "cell_type": "code",
   "execution_count": 120,
   "id": "52514cbb",
   "metadata": {},
   "outputs": [
    {
     "name": "stdout",
     "output_type": "stream",
     "text": [
      "c is big\n"
     ]
    }
   ],
   "source": [
    "a=(int(input(\"value of a:\")))\n",
    "b=(int(input(\"value of b:\")))\n",
    "c=(int(input(\"value of c:\")))\n",
    "if a>b:\n",
    "    if a>c:\n",
    "        print(\"a is big\")\n",
    "else:\n",
    "    if b>c:\n",
    "        print(\"b is big\")\n",
    "    else:\n",
    "        print(\"c is big\")"
   ]
  },
  {
   "cell_type": "code",
   "execution_count": 121,
   "id": "ca2b0c5f",
   "metadata": {},
   "outputs": [
    {
     "name": "stdout",
     "output_type": "stream",
     "text": [
      "0 1 2 3 4 5 6 7 8 9 10 11 12 13 14 "
     ]
    }
   ],
   "source": [
    "n=int(input(\"enter n value\"))\n",
    "i=0 #loop variable\n",
    "while i<=n:\n",
    "    print(i,end=\" \")\n",
    "    i=i+1"
   ]
  },
  {
   "cell_type": "code",
   "execution_count": 122,
   "id": "b673f211",
   "metadata": {},
   "outputs": [
    {
     "name": "stdout",
     "output_type": "stream",
     "text": [
      "0 2 4 6 8 10 12 14 "
     ]
    }
   ],
   "source": [
    "for i in range (0,15,2):\n",
    "    print(i,end=\" \")"
   ]
  },
  {
   "cell_type": "code",
   "execution_count": 125,
   "id": "4d08578b",
   "metadata": {},
   "outputs": [
    {
     "name": "stdout",
     "output_type": "stream",
     "text": [
      "python"
     ]
    }
   ],
   "source": [
    "str=\"python\"\n",
    "for letter in str:\n",
    "    print(letter,end=\"\") #print letter by letter"
   ]
  },
  {
   "cell_type": "code",
   "execution_count": 127,
   "id": "5f9903ad",
   "metadata": {},
   "outputs": [
    {
     "name": "stdout",
     "output_type": "stream",
     "text": [
      "10 20 30 40 50 60 "
     ]
    }
   ],
   "source": [
    "l=[10,20,30,40,50,60]\n",
    "for ele in l:\n",
    "    print(ele,end=\" \") "
   ]
  },
  {
   "cell_type": "code",
   "execution_count": 132,
   "id": "693de6ba",
   "metadata": {},
   "outputs": [
    {
     "name": "stdout",
     "output_type": "stream",
     "text": [
      "* * * * * \n",
      "* * * * * \n",
      "* * * * * \n",
      "* * * * * \n",
      "* * * * * \n"
     ]
    }
   ],
   "source": [
    "for i in range(5):\n",
    "    for j in range(5):\n",
    "        print(\"*\",end=\" \")\n",
    "    print()"
   ]
  },
  {
   "cell_type": "code",
   "execution_count": 133,
   "id": "9f68944f",
   "metadata": {},
   "outputs": [
    {
     "name": "stdout",
     "output_type": "stream",
     "text": [
      "* * * * * \n",
      "* * * *  \n",
      "* * *  \n"
     ]
    }
   ],
   "source": [
    "for i in range(1):\n",
    "    for j in range(5):\n",
    "        print(\"*\",end=\" \")\n",
    "    print(\"\")\n",
    "for i in range(1):\n",
    "    for j in range(4):\n",
    "        print(\"*\",end=\" \")\n",
    "    print(\" \")\n",
    "for i in range(1):\n",
    "    for j in range(3):\n",
    "        print(\"*\",end=\" \")\n",
    "    print(\" \")\n"
   ]
  },
  {
   "cell_type": "code",
   "execution_count": 134,
   "id": "843562a4",
   "metadata": {},
   "outputs": [
    {
     "name": "stdout",
     "output_type": "stream",
     "text": [
      "0 1 2 3 4 "
     ]
    }
   ],
   "source": [
    "for i in range(10):\n",
    "    if i==5:\n",
    "        break\n",
    "    else:\n",
    "        print(i,end=\" \")"
   ]
  },
  {
   "cell_type": "code",
   "execution_count": 137,
   "id": "2a13a160",
   "metadata": {},
   "outputs": [
    {
     "name": "stdout",
     "output_type": "stream",
     "text": [
      "0 1 2 3 4 6 7 8 9 "
     ]
    }
   ],
   "source": [
    "for i in range(10):\n",
    "    if i==5:\n",
    "        continue \n",
    "    else:\n",
    "        print(i,end=\" \")"
   ]
  },
  {
   "cell_type": "code",
   "execution_count": 138,
   "id": "0a61fa3d",
   "metadata": {},
   "outputs": [
    {
     "name": "stdout",
     "output_type": "stream",
     "text": [
      "0 1 2 3 4 6 7 8 9 "
     ]
    }
   ],
   "source": [
    "for i in range(10):\n",
    "    if i==5:\n",
    "        pass \n",
    "    else:\n",
    "        print(i,end=\" \")"
   ]
  },
  {
   "cell_type": "code",
   "execution_count": 140,
   "id": "a9e03343",
   "metadata": {},
   "outputs": [
    {
     "name": "stdout",
     "output_type": "stream",
     "text": [
      "1 2 3 4 5 6 7 8 9 10 "
     ]
    }
   ],
   "source": [
    "i=1\n",
    "while i<=10:\n",
    "    if i==5:\n",
    "        pass\n",
    "    print(i,end=\" \")\n",
    "    i=i+1"
   ]
  },
  {
   "cell_type": "markdown",
   "id": "fb497f8b",
   "metadata": {},
   "source": [
    "# MATH MODULE"
   ]
  },
  {
   "cell_type": "code",
   "execution_count": null,
   "id": "747ba8be",
   "metadata": {},
   "outputs": [],
   "source": [
    "# MATH having different functions called with (math.)--> these functions are bulit in functions\n",
    "# mathematical functions(math.) ---> before use of mathfunction we have to (IMPORT MATH).\n",
    "# ceil(x)          fsum(iterable)    cos(x)    inf\n",
    "# copysign(x,y)    ged(x,y)          tan(x)    nan\n",
    "# fabs(x)          pow(x,y)          pi\n",
    "# factorial(x)     sqrt(x)           e\n",
    "# floor(x)         sin(x)            tau"
   ]
  },
  {
   "cell_type": "code",
   "execution_count": 142,
   "id": "676ce287",
   "metadata": {},
   "outputs": [
    {
     "name": "stdout",
     "output_type": "stream",
     "text": [
      "11\n",
      "-10.0\n",
      "20.0\n",
      "120\n",
      "10\n",
      "60.0\n",
      "1\n",
      "8.0\n",
      "4.0\n",
      "-0.3048106211022167\n",
      "-0.9524129804151563\n",
      "0.320040389379563\n",
      "3.141592653589793\n",
      "2.718281828459045\n",
      "inf\n",
      "nan\n"
     ]
    }
   ],
   "source": [
    "import math                 # MATH.(format)--->import of mathematics by math. format \n",
    "a=10\n",
    "b=-20\n",
    "l=[10,20,30]\n",
    "print(math.ceil(10.3));     # nearest greater integervalue can be identify  \n",
    "print(math.copysign(a,b));  # copy the sign of b to a (a is -,b is +,then a is +)\n",
    "print(math.fabs(b));        # negetive value can be identify as positive\n",
    "print(math.factorial(5));   # factorial values are identify (n!)\n",
    "print(math.floor(10.9));    # floor values are identify(below nearest integer value)\n",
    "print(math.fsum(l));        # sum of the list values \n",
    "print(math.gcd(3,10));      # GCD values are identify\n",
    "print(math.pow(2,3));       # power function to use the values are identify\n",
    "print(math.sqrt(16));       # sqaure values are identify \n",
    "print(math.sin(60));        # sin functions can be update the value as given angles\n",
    "print(math.cos(60));        # cos functions can be update the value as given angles\n",
    "print(math.tan(60));        # tan functions can be update the value as given angles \n",
    "print(math.pi);             # pie having value be given below\n",
    "print(math.e);              # exponential having value be given below\n",
    "c=math.inf                  # infinite value be inf (undefined can be print as inf)\n",
    "print(c)\n",
    "d=math.nan                  # nun value be the 0 that can be print as the nun\n",
    "print(d)"
   ]
  },
  {
   "cell_type": "code",
   "execution_count": 143,
   "id": "1e78fd5f",
   "metadata": {},
   "outputs": [
    {
     "name": "stdout",
     "output_type": "stream",
     "text": [
      "-10.0\n"
     ]
    }
   ],
   "source": [
    "import math\n",
    "a=10\n",
    "b=-20\n",
    "print(math.copysign(a,b)) #copy the sign of b to a"
   ]
  },
  {
   "cell_type": "markdown",
   "id": "3831c60e",
   "metadata": {},
   "source": [
    "# RANDOM FUNCTIONS"
   ]
  },
  {
   "cell_type": "code",
   "execution_count": null,
   "id": "b6c204ca",
   "metadata": {},
   "outputs": [],
   "source": [
    "# CHOICE(SEQ)\n",
    "# randrange(start,stop,step)\n",
    "# random( )\n",
    "# shuffle(list)\n",
    "# uniform(x,y)"
   ]
  },
  {
   "cell_type": "code",
   "execution_count": null,
   "id": "2d86241c",
   "metadata": {},
   "outputs": [
    {
     "name": "stdout",
     "output_type": "stream",
     "text": [
      "30\n",
      "[40, 10]\n",
      "10\n",
      "0.4361377179208651\n",
      "[50, 40, 10, 20, 30]\n",
      "11.801089129129236\n"
     ]
    }
   ],
   "source": [
    "import random                       # RANDOM -> import of random function\n",
    "l=[10,20,30,40,50]                  # elements\n",
    "print(random.choice(l));            # choice(list)  -> select one value from list of values randomly\n",
    "print(random.choices(l,k=2));       # choices(list,k=number of elements)->'s' ,select no.k values from list of values\n",
    "print(random.randrange(10,15,1));   # randrange(start,stop,step)\n",
    "print(random.random());             # random()      -> {0 to 1}\n",
    "random.shuffle(l)                   # shuffle(l)    -> list of all values to be shuffle (in place) to form a list\n",
    "print(l)\n",
    "print(random.uniform(10,15));       # uniform(initial value,final value) -> between value if it float value in random"
   ]
  },
  {
   "cell_type": "code",
   "execution_count": 147,
   "id": "b295b06e",
   "metadata": {},
   "outputs": [
    {
     "name": "stdout",
     "output_type": "stream",
     "text": [
      "[10, 20, 30, 40, 50, 60]\n"
     ]
    }
   ],
   "source": [
    "a=[10,20,30,40,50,60]\n",
    "print(a)"
   ]
  },
  {
   "cell_type": "markdown",
   "id": "a27c2b32",
   "metadata": {},
   "source": [
    "# LIST"
   ]
  },
  {
   "cell_type": "code",
   "execution_count": null,
   "id": "a39347d4",
   "metadata": {},
   "outputs": [],
   "source": [
    "# LIST\n",
    "# CREATING LIST\n",
    "# ACCESSING ELEMENTS FROM LIST.\n",
    "# SLICING\n",
    "# REASSIGNING LIST ELEMENTS.\n",
    "# MULTI DIMENSIONAL LIST\n",
    "# DELETING ELEMENTS\n",
    "# BASIC OPERATIONS\n",
    "       # (+,*,len,min,max,sum,membership,iterations)\n",
    "# BUILT IN METHODS\n",
    "       # (append,extend,insert,removal,pop,sort,count,index,reverse)"
   ]
  },
  {
   "cell_type": "code",
   "execution_count": null,
   "id": "0c8527fb",
   "metadata": {},
   "outputs": [
    {
     "name": "stdout",
     "output_type": "stream",
     "text": [
      "<class 'list'>\n"
     ]
    }
   ],
   "source": [
    "a=[]             # list concept(mutable)(list create->modifications(element){add,delete,reasign})\n",
    "print(type(a))"
   ]
  },
  {
   "cell_type": "code",
   "execution_count": 2,
   "id": "405a2d68",
   "metadata": {},
   "outputs": [
    {
     "name": "stdout",
     "output_type": "stream",
     "text": [
      "50\n",
      "50\n"
     ]
    }
   ],
   "source": [
    "a=[10,20,30,40,50,60]   # ACCESSING\n",
    "# index ->   0  1  2  3  4  5 (forward index)   a[5]  {forward index value is address of the list value}\n",
    "# element->  10 20 30 40 50 60\n",
    "# index ->  -6 -5 -4 -3 -2 -1 (backward index)  a[-1] {list length-value of give backward index = forward index}\n",
    "print(a[-2])\n",
    "print(a[4])"
   ]
  },
  {
   "cell_type": "code",
   "execution_count": 3,
   "id": "dfef81c4",
   "metadata": {},
   "outputs": [
    {
     "name": "stdout",
     "output_type": "stream",
     "text": [
      "[10, 20, 30]\n",
      "[10, 20, 30, 40]\n",
      "[20, 30, 40, 50, 60]\n",
      "[30, 40]\n"
     ]
    }
   ],
   "source": [
    "a=[10,20,30,40,50,60]  # SLICING [start:stop(length of list)]\n",
    "print(a[0:3])\n",
    "print(a[ :4])\n",
    "print(a[1: ])\n",
    "print(a[2:4])"
   ]
  },
  {
   "cell_type": "code",
   "execution_count": null,
   "id": "f21464ef",
   "metadata": {},
   "outputs": [
    {
     "name": "stdout",
     "output_type": "stream",
     "text": [
      "[10, 20, 25, 40, 50, 60]\n"
     ]
    }
   ],
   "source": [
    "a=[10,20,30,40,50,60]  # REASSIGNING LIST ELEMENT\n",
    "a[2]=25                # re-assining the value of index in place of list values\n",
    "print(a)"
   ]
  },
  {
   "cell_type": "code",
   "execution_count": null,
   "id": "593a5bc4",
   "metadata": {},
   "outputs": [
    {
     "name": "stdout",
     "output_type": "stream",
     "text": [
      "20\n",
      "60\n"
     ]
    }
   ],
   "source": [
    "a=[(10,20,30),(40,50,60)]  # MULTI DIMENSIONAL LIST TO BE READY\n",
    "# element(10,20,30)  (40,50,60)\n",
    "# index   0  1  2     0  1  2 \n",
    "# index      0           1\n",
    "print(a[0][1]);   # a[first index][second index]\n",
    "b=[[(10,20),(30,40)],[(50,60),(70,80)]]\n",
    "# element[(10,20),(30,40)],[(50,60),(70,80)]\n",
    "# index    0  1    0  1      0   1   0  1\n",
    "# index      0      1         0        1\n",
    "# index          0                1\n",
    "print(b[1][0][1]);  # a[first index][second index][third index]"
   ]
  },
  {
   "cell_type": "code",
   "execution_count": 4,
   "id": "cc2c2d1e",
   "metadata": {},
   "outputs": [
    {
     "name": "stdout",
     "output_type": "stream",
     "text": [
      "[10, 20, 30, 40, 50, 60]\n",
      "[10, 20, 30, 10, 20, 30, 10, 20, 30]\n",
      "40\n",
      "30\n",
      "60\n",
      "3\n",
      "True\n",
      "False\n",
      "40\n",
      "50\n",
      "60\n",
      "[10, 20, 30, 10, 20, 30]\n",
      "10 20 30 "
     ]
    }
   ],
   "source": [
    "a=[10,20,30] # BASIC OPERATIONS\n",
    "b=[40,50,60]\n",
    "print(a+b)  # sum of two elements\n",
    "print(a*3)  # product with integer here a*b->(syntex error)\n",
    "print(min(b)) # min()-> minimum value of list\n",
    "print(max(a)) # max()-> maximum value of list\n",
    "print(sum(a)) # sum()-> sum of the list value\n",
    "print(len(a)) # len()->length of list\n",
    "print(10 in a) # membership\n",
    "print(100 in a)\n",
    "for i in range(len(b)): # iterations  # for loop using by the range of length of b->i value in b\n",
    "    print(b[i],end=\"\\n\")   # elements in b(value of n to be print)\n",
    "b=2\n",
    "print(a*b)  # b=2(index values) the (a*b correct)\n",
    "for i in a:              # for loop using list of a-> for i value in a\n",
    "    print(i,end=\" \")    # value of n to be print"
   ]
  },
  {
   "cell_type": "code",
   "execution_count": 5,
   "id": "57481cca",
   "metadata": {},
   "outputs": [
    {
     "name": "stdout",
     "output_type": "stream",
     "text": [
      "20\n",
      "40\n",
      "100\n",
      "10 20 30 40 "
     ]
    }
   ],
   "source": [
    "a=[10,20,30,40]\n",
    "b=[20,30,40,50]\n",
    "print(min(b)); # min()-> minimum value of list\n",
    "print(max(a)); # max()-> maximum value of list\n",
    "print(sum(a)); # sum()-> sum of the list value\n",
    "for i in a:\n",
    "    print(i,end=\" \")"
   ]
  },
  {
   "cell_type": "code",
   "execution_count": 6,
   "id": "9b682979",
   "metadata": {},
   "outputs": [
    {
     "name": "stdout",
     "output_type": "stream",
     "text": [
      "[]\n",
      "[10]\n",
      "[10, 20]\n",
      "[10, 20, [30, 40]]\n",
      "[10, 20, [30, 40], 10, 20, 30, 40]\n",
      "[10, 20, 50, [30, 40], 10, 20, 30, 40]\n",
      "[10, 20, [30, 40], 10, 20, 30, 40]\n",
      "[20, [30, 40], 10, 20, 30, 40]\n",
      "[20, [30, 40], 20, 30, 40]\n",
      "[20, [30, 40], 20, 40]\n",
      "[[30, 40], 20, 40]\n",
      "[40, 60, 20, 10, 50, 30]\n",
      "[10, 20, 30, 40, 50, 60]\n",
      "[60, 50, 40, 30, 20, 10]\n",
      "[10, 20, 30, 10, 20, 30, 10, 20, 30]\n",
      "3\n",
      "20\n",
      "[10, 20, 30, 10, 30, 10, 20, 30]\n",
      "2\n",
      "1\n",
      "[30, 20, 10, 30, 10, 30, 20, 10]\n"
     ]
    }
   ],
   "source": [
    "a=list()             # BUILT-IN METHOD OR FUNCTIONS\n",
    "print(a)\n",
    "a.append(10)\n",
    "print(a)\n",
    "a.append(20)          # (VALUES ADDED FUNCTION)((.append)(.extend)(.insert))\n",
    "print(a)\n",
    "a.append([30,40])     # (.append) that means adding of elements --->ADDIND OF mulitiple ELEMENT-->(syntex error)-->((o/p))\n",
    "print(a)\n",
    "a.extend((10,20,30,40)) # (.extend) that means adding of elements-->ADDIND OF mulitiple ELEMENT-->(syntex error)-->((o/p))\n",
    "print(a)\n",
    "a.insert(2,50)           # (.insert) that means adding of elements--->by the middle of index address to point the value adding\n",
    "print(a)\n",
    "a.remove(50)         # (VALUES REMOVAL FUNCTION)((.remove)(.pop)(dela[]))\n",
    "print(a)            # (.remove)--->remove the elements in the list\n",
    "a.remove(10)         #  check from the straring operation\n",
    "print(a)\n",
    "a.remove(10)         # next opertion to remove\n",
    "print(a)\n",
    "a.pop(3)             # (.pop)--->(a.pop(element)--->syntex error)-->(a.pop(index value)-->o/p)\n",
    "print(a)\n",
    "del a[0]            # del a[index value]-->(o/p)\n",
    "print(a)\n",
    "import random        # IMPORT RANDOM FUNCTION \n",
    "b=[10,20,30,40,50,60]\n",
    "random.shuffle(b)   # RANDOM.SHUFFLE OF LIST VALUES\n",
    "print(b)\n",
    "b.sort()            # .sort()-->not give any argument that means(reverse=False)[ASSENDING ORDER]\n",
    "print(b)           \n",
    "b.sort(reverse=True) # (.sort(reverse=True)--> given argument that means[DESSENDING ORDER])\n",
    "print(b)\n",
    "c=[10,20,30]        # LIST VALUES\n",
    "c=c*3\n",
    "print(c)            # power of times repeat the values in the list\n",
    "print(c.count(20))  # .count()-->number of times,the value in the list\n",
    "print(c.pop(4))     # .pop()-->to delete the value in the list by the shuffle part or index value to update\n",
    "print(c)            # delete the value and remaing list availible\n",
    "print(c.count(20))  # number of times,the value in the list(after deleting the element by the .pop())\n",
    "print(c.index(20))  # starting to end by checking the value to be defined the first value\n",
    "c.reverse()         # function (.reverse())-->by using function to reverse the list.\n",
    "print(c)"
   ]
  },
  {
   "cell_type": "code",
   "execution_count": 7,
   "id": "4f48a557",
   "metadata": {},
   "outputs": [
    {
     "name": "stdout",
     "output_type": "stream",
     "text": [
      "[10, 20, 30, 10, 20, 30, 10, 20, 30]\n",
      "30\n",
      "[10, 20, 30, 10, 20, 10, 20, 30]\n"
     ]
    }
   ],
   "source": [
    "a=[10,20,30]\n",
    "a=a*3\n",
    "print(a)\n",
    "print(a.pop(5))\n",
    "print(a)"
   ]
  },
  {
   "cell_type": "code",
   "execution_count": 8,
   "id": "d6246dd7",
   "metadata": {},
   "outputs": [
    {
     "name": "stdout",
     "output_type": "stream",
     "text": [
      "[0, 1, 2, 3, 4, 5, 6, 7, 8, 9]\n",
      "[0, 1, 4, 9, 16, 25, 36, 49, 64, 81]\n",
      "[0, 2, 4, 6, 8]\n",
      "[0, 4, 16, 36, 64]\n",
      "[0, 3, 6, 9, 12, 15, 18, 21, 24, 27]\n",
      "[3, 4, 5, 6, 7, 8, 9, 10, 11, 12]\n",
      "[-1, 0, 1, 2, 3, 4, 5, 6, 7, 8]\n",
      "[0.0, 0.5, 1.0, 1.5, 2.0, 2.5, 3.0, 3.5, 4.0, 4.5]\n",
      "[0, 1, 8, 27, 64, 125, 216, 343, 512, 729]\n",
      "[0, 8, 64, 216, 512]\n",
      "[0, 8, 64, 216, 512, 1000, 1728, 2744, 4096, 5832, 8000, 10648, 13824, 17576, 21952, 27000, 32768, 39304, 46656, 54872, 64000, 74088, 85184, 97336, 110592, 125000, 140608, 157464, 175616, 195112, 216000, 238328, 262144, 287496, 314432, 343000, 373248, 405224, 438976, 474552, 512000, 551368, 592704, 636056, 681472, 729000, 778688, 830584, 884736, 941192]\n",
      "[0, 27, 216, 729]\n"
     ]
    }
   ],
   "source": [
    "# LIST OF COMPHREHESION.(to create the value in the list by using the formulation)\n",
    "# single line to write the code(1.expression 2.iteration 3.condition)[list operation]\n",
    "a=[ele for ele in range(10)]  # element for element in that range of value to form a list (range value start from 0)\n",
    "print(a)\n",
    "a=[ele*ele for ele in range(10)] # element*element that means to form a square value in that list\n",
    "print(a)\n",
    "a=[ele for ele in range(10) if ele%2==0] # element values to avilible only in even numbers\n",
    "print(a)\n",
    "a=[ele*ele for ele in range(10) if ele%2==0] # element*element square values of even numbers availible\n",
    "print(a)\n",
    "a=[ele*3 for ele in range(10)]  # element*number(product value of list form)\n",
    "print(a)\n",
    "a=[ele+3 for ele in range(10)]  # element+number(addition value of list form)\n",
    "print(a)\n",
    "a=[ele-1 for ele in range(10)]  # element-number(subtracte value of list form)\n",
    "print(a)\n",
    "a=[ele/2 for ele in range(10)]  # element/number(divisible value of list form)\n",
    "print(a)\n",
    "a=[ele**3 for ele in range(10)] # element**number(power of list form)\n",
    "print(a)\n",
    "a=[ele**3 for ele in range(10) if ele%2==0] # element**number(power of list form,all in even)\n",
    "print(a)\n",
    "a=[ele**3 for ele in range(100) if ele%2==0]\n",
    "print(a)\n",
    "a=[ele**3 for ele in range(10) if ele%3==0] # element**number(power of list form,all divisible of 3)\n",
    "print(a)"
   ]
  },
  {
   "cell_type": "markdown",
   "id": "20192eb3",
   "metadata": {},
   "source": [
    "# TUPLE"
   ]
  },
  {
   "cell_type": "code",
   "execution_count": 9,
   "id": "1cdc46e2",
   "metadata": {},
   "outputs": [],
   "source": [
    "# TUPLE -->immutable\n",
    "# CREATING TUPLE\n",
    "# ACCESSING ELEMENTS FROM TUPLE.\n",
    "# SLICING\n",
    "# REASSIGNING TUPLE ELEMENTS.\n",
    "# DELETING ELEMENTS\n",
    "# NESTED TUPLE\n",
    "# BASIC OPERATIONS\n",
    "       # (+,*,min,max,sum,membership,iterations)\n",
    "# BUILT IN METHODS\n",
    "      # (COUNT,INDEX)\n",
    "    # remaing opertions must be covertion of list operations & recovertion of list into tuple"
   ]
  },
  {
   "cell_type": "code",
   "execution_count": 10,
   "id": "58b97202",
   "metadata": {},
   "outputs": [
    {
     "name": "stdout",
     "output_type": "stream",
     "text": [
      "<class 'tuple'>\n",
      "()\n",
      "<class 'int'>\n",
      "<class 'tuple'>\n",
      "30\n",
      "40\n",
      "(10, 20, 30, 40, 50)\n",
      "(20, 30, 40)\n",
      "(10, 20, 30)\n",
      "(10, 20, 30, 40, 50)\n",
      "[10, 20, 30, 40, 50]\n",
      "[10, 20, 25, 40, 50]\n",
      "(10, 20, 25, 40, 50)\n",
      "[10, 20, 25, 40, 50]\n",
      "[10, 20, 25, 40, 50, 60]\n",
      "(10, 20, 25, 40, 50, 60)\n"
     ]
    }
   ],
   "source": [
    "t=()              # creating tuple()--> by using this brackets(), not use[]\n",
    "print(type(t))\n",
    "t=tuple()\n",
    "print(t)\n",
    "t=(10)            # () use this brackets not to get the in the tuple function (we get integer values) \n",
    "print(type(t))\n",
    "t=(10,)           # (digit,) this function use to get tuple value\n",
    "print(type(t))\n",
    "t1=(10,20,30,40,50) # ACCESSING ELEMENTS FROM TUPLE\n",
    "print(t1[2])       # forward index\n",
    "print(t1[-2])      # backward index\n",
    "print(t1[:])       # SLICING \n",
    "print(t1[1:4]) \n",
    "print(t1[:3])\n",
    "print(t1[0:]) \n",
    "# REASSIGNING TUPLE ELEMENT\n",
    "t2=(10,20,30,40,50)   # when reassigning position tuple opertion not worked it's converted into list operations\n",
    "l=list(t2)            #  converting tuple to list \n",
    "print(l)           \n",
    "l[2]=25               # reassiging the value in the list\n",
    "print(l)\n",
    "t2=tuple(l)           # after completing the list to be converted into the tuple\n",
    "print(t2)\n",
    "# by the tuple function which we can't change some function that must be change tuple into the list \n",
    "# after complete the operations to be converted list into tuple\n",
    "l=list(t2)\n",
    "print(l)\n",
    "l.append(60)\n",
    "print(l)\n",
    "t2=tuple(l)\n",
    "print(t2)"
   ]
  },
  {
   "cell_type": "code",
   "execution_count": null,
   "id": "7c54d3a0",
   "metadata": {},
   "outputs": [
    {
     "name": "stdout",
     "output_type": "stream",
     "text": [
      "20\n",
      "40\n",
      "(10, 2.5, 'python')\n"
     ]
    }
   ],
   "source": [
    "# NESTED TUPLE\n",
    "t=((10,20),(30,40))\n",
    "print(t[0][1])          # defined to find the value by usig the index address\n",
    "print(t[1][1])\n",
    "t1=(10,2.5,\"python\")    # string must be accepting multiple data types\n",
    "print(t1)"
   ]
  },
  {
   "cell_type": "code",
   "execution_count": 12,
   "id": "b4459eb0",
   "metadata": {},
   "outputs": [
    {
     "name": "stdout",
     "output_type": "stream",
     "text": [
      "(10, 20, 30, 40, 50, 60)\n",
      "(10, 20, 30, 40, 50, 60)\n",
      "(10, 20, 30, 10, 20, 30, 10, 20, 30)\n",
      "(10, 20, 30, 10, 20, 30)\n",
      "3\n",
      "3\n",
      "10\n",
      "40\n",
      "30\n",
      "60\n",
      "210\n",
      "True\n",
      "False\n",
      "10\n",
      "20\n",
      "30\n",
      "40\n",
      "50\n",
      "60\n",
      "10, 20, 30, 40, 50, 60, "
     ]
    }
   ],
   "source": [
    "# BASIC OPERATIONS:\n",
    "t1=(10,20,30)\n",
    "t2=(40,50,60)\n",
    "print(t1+t2)     # sum of two operations \n",
    "t=t1+t2           \n",
    "print(t)\n",
    "print(t1*3)      # product operation using digit value\n",
    "q=2\n",
    "print(t1*q)      #  by using variable of a value of digit\n",
    "print(len(t1))   # length operations to find number of digit.\n",
    "print(len(t2))\n",
    "print(min(t1))   # minimum value to find by this operation\n",
    "print(min(t2))   \n",
    "print(max(t1))   # maximum value to find by this operation\n",
    "print(max(t2))\n",
    "print(sum(t))    # sum of tuple values by this operation\n",
    "print(10 in t)   # MEMBERSHIP by boloon opertion to find if it is true or false\n",
    "print(100 in t)\n",
    "for ele in t:     # ITERATIONS\n",
    "    print(ele)            # by the element function\n",
    "    print(sep=\"\\n\",end=\"\")\n",
    "for i in range(len(t)):    # by the index function\n",
    "    print(t[i],end=\", \")"
   ]
  },
  {
   "cell_type": "code",
   "execution_count": 13,
   "id": "5a621443",
   "metadata": {},
   "outputs": [
    {
     "name": "stdout",
     "output_type": "stream",
     "text": [
      "1\n",
      "3\n",
      "3\n",
      "4\n",
      "[10, 20, 50, 30, 40, 50, 60, 50]\n",
      "[10, 20, 50, 30, 40, 50, 60, 50, 40]\n",
      "[10, 20, 50, 60, 30, 40, 50, 60, 50, 40]\n",
      "[10, 20, 50, 60, 30, 40, 50, 60, 50, 40, 70, 80, 90]\n",
      "[10, 20, 50, 60, 30, 50, 60, 50, 40, 70, 80, 90]\n",
      "[10, 20, 50, 60, 30, 60, 50, 40, 70, 80, 90]\n",
      "[10, 20, 50, 60, 30, 50, 40, 70, 80, 90]\n",
      "[10, 20, 80, 60, 70, 50, 30, 50, 40, 90]\n",
      "[10, 20, 30, 40, 50, 50, 60, 70, 80, 90]\n",
      "[90, 80, 70, 60, 50, 50, 40, 30, 20, 10]\n",
      "[10, 20, 30, 40, 50, 50, 60, 70, 80, 90]\n",
      "(10, 20, 30, 40, 50, 50, 60, 70, 80, 90)\n",
      "40\n"
     ]
    }
   ],
   "source": [
    "# BUILT IN METHODS----> TUPLE operations\n",
    "t=(10,20,50,30,40,50,60,50) # tuple formate\n",
    "print(t.count(10))         # .count() method for count of number of integer \n",
    "print(t.count(50))         \n",
    "print(t.index(30))         # .index() method for find the index value of integer given\n",
    "print(t.index(40))\n",
    "l=list(t)     # converting the tuple into the list function\n",
    "print(l)\n",
    "l.append(40)  # (.append) that means adding of elements --->ADDIND OF mulitiple ELEMENT-->(syntex error)-->((o/p))        \n",
    "print(l)\n",
    "l.insert(3,60) # (.insert) that means adding of elements--->by the middle of index address to point the value adding\n",
    "print(l)\n",
    "l.extend([70,80,90]) # (.extend) that means adding of elements-->ADDIND OF mulitiple ELEMENT-->(syntex error)-->((o/p))\n",
    "print(l)\n",
    "l.remove(40) # (VALUES REMOVAL FUNCTION)((.remove)(.pop)(dela[]))\n",
    "print(l)  # (.remove)--->remove the elements in the list & check from the straring operation\n",
    "l.pop(5)     # (.pop)--->(a.pop(element)--->syntex error)-->(a.pop(index value)-->o/p)\n",
    "print(l)    # .pop()-->to delete the value in the list by the shuffle part or index value to update \n",
    "# delete the value and remaing list availible\n",
    "del l[5]     # del a[index value]-->(o/p)\n",
    "print(l)\n",
    "\n",
    "# IMPORT RANDOM FUNCTION\n",
    "import random           \n",
    "random.shuffle(l) # RANDOM.SHUFFLE OF LIST VALUES\n",
    "print(l)\n",
    "l.sort()  # .sort()-->not give any argument that means(reverse=False)[ASSENDING ORDER]\n",
    "print(l)\n",
    "l.sort(reverse=True) # (.sort(reverse=True)-->given argument that means[DESSENDING ORDER])\n",
    "print(l)\n",
    "l.reverse() # function (.reverse())-->by using function to reverse the list.\n",
    "print(l)\n",
    "\n",
    "t=tuple(l) # converting lidt into tuple function\n",
    "print(t)\n",
    "\n",
    "# NESTED TUPLE \n",
    "t=((10,20),(30,40)) # in this nested tuple consists of integer identified by the index value\n",
    "print(t[1][1])   \n",
    "# element[(10,20),(30,40)],[(50,60),(70,80)]\n",
    "# index    0  1    0  1      0   1   0  1\n",
    "# index      0      1         0        1\n",
    "# index          0                1\n",
    "# a[first index][second index][third index]\n"
   ]
  },
  {
   "cell_type": "markdown",
   "id": "b9ed5c50",
   "metadata": {},
   "source": [
    "# STRINGS"
   ]
  },
  {
   "cell_type": "code",
   "execution_count": null,
   "id": "8f920919",
   "metadata": {},
   "outputs": [],
   "source": [
    "# STRINGS\n",
    "# a gruop of characterstics is known as strings.is similar to list.but not impliment in ()[] this cases, \n",
    "# impliment in \" \",every character having an index value, every character should be taken as string.\n",
    "# CREATING STRINGS\n",
    "# ACCESSING ELEMENTS FROM STRINGS.\n",
    "# SLICING\n",
    "# SINGLE, DOUBLE, TRIPLE QUOTES.\n",
    "# FORMAT METHOD\n",
    "# BASIC OPERATIONS\n",
    "       # (+,*,len,min,max,sum,membership,iterations)\n",
    "# BUILT IN METHODS\n",
    "    # capitalize, center, count, endswith, startswith, find, index, rfind, rindex, isalnum, isalpha,\n",
    "    # isdigit, isspace, islower, isupper, istitle, ljust, rjust, lower, upper, strip, lstrip, rstrip,\n",
    "    # max, min, replace, split, swapcase, title, zfill."
   ]
  },
  {
   "cell_type": "code",
   "execution_count": 14,
   "id": "886e75d2",
   "metadata": {},
   "outputs": [
    {
     "name": "stdout",
     "output_type": "stream",
     "text": [
      "<class 'str'>\n",
      "p\n",
      "n\n",
      "welcome to \n",
      "me to pytho\n",
      " to python\n",
      "wlecome to python programming\n",
      "your's\n",
      "hello welocome to  \n",
      "python programming\n",
      "10 is an integer and 15.5 is float\n"
     ]
    }
   ],
   "source": [
    "# CREATING STRINGS\n",
    "str=\"python\"\n",
    "print(type(str))\n",
    "# ACCESSING ELEMENTS FROM STRINGS.\n",
    "print(str[0])   # forward index\n",
    "print(str[-1])  # backward index\n",
    "# SLICING\n",
    "str=\"welcome to python\"\n",
    "print(str[ :11])   # string[starting index value:end of index value]\n",
    "print(str[5:16])\n",
    "print(str[7: ])\n",
    "# SINGLE, DOUBLE, TRIPLE QUOTES\n",
    "str='wlecome to python programming' # 'your's' not followed this condition of the method (')formate not follwed\n",
    "print(str)\n",
    "str=\"your's\"  # str=\"hello\n",
    "print(str)         # welcome to python programming\"--->syntex error\n",
    "str=\"\"\"hello welocome to  \n",
    "python programming\"\"\" # any string can write in multiple line to write in triple\n",
    "print(str)\n",
    "# FORMAT METHOD(the value which is having that can be used in the formating method)\n",
    "print(\"{0} is an integer and {1} is float\".format(10,15.5))\n",
    "# print(\"{index value} is an integer and {index value} is float\".foramt(a,b))"
   ]
  },
  {
   "cell_type": "code",
   "execution_count": null,
   "id": "6ffc16a2",
   "metadata": {},
   "outputs": [
    {
     "name": "stdout",
     "output_type": "stream",
     "text": [
      "pythonprogramming\n",
      "pythonpython\n",
      "6\n",
      "a\n",
      "r\n",
      "True\n",
      "True\n",
      "False\n",
      "pythonprogramming"
     ]
    }
   ],
   "source": [
    "# BASIC OPERATIONS\n",
    "s1=\"python\"\n",
    "s2=\"programming\"\n",
    "print(s1+s2)\n",
    "print(s1*2)\n",
    "print(len(s1))  # length of the string\n",
    "print(min(s2))  # minimum value of the string\n",
    "print(max(s2))  # maximum value if the string\n",
    "# print(sum(s1)) ----> syntex error \n",
    "print('p' in s1)   # membership\n",
    "print('gram' in s2) # order varable can be identify\n",
    "print('aing' in s2) # disorder varables are can't find\n",
    "for letter in s1:   # iterations\n",
    "    print(letter,end=\"\")\n",
    "for i in range (len(s2)):\n",
    "    print(s2[i],end=\"\")\n",
    "# reassining:(s1='welcome to python'),s1[2]='z'{syntex error not supported for reassing(but create new string)}"
   ]
  },
  {
   "cell_type": "code",
   "execution_count": 15,
   "id": "d8af1b16",
   "metadata": {},
   "outputs": [
    {
     "name": "stdout",
     "output_type": "stream",
     "text": [
      "Welcome to python programming\n",
      "**welcome to python programming**\n",
      "$$welcome to python programming$$\n",
      "4\n",
      "3\n",
      "1\n",
      "True\n",
      "True\n",
      "False\n",
      "False\n",
      "False\n",
      "False\n",
      "4\n",
      "9\n",
      "23\n",
      "20\n",
      "-1\n",
      "20\n",
      "4\n",
      "20\n"
     ]
    }
   ],
   "source": [
    "# BUILT-IN METHOD:\n",
    "s=\"welcome to python programming\"\n",
    "print(s.capitalize()) # initial letter to capital\n",
    "# .center\n",
    "print(s.center(33,\"*\"))  # out of index value submit to enter the symbol for .center to get boeth side symbols\n",
    "print(s.center(33,\"$\"))\n",
    "# .count\n",
    "print(s.count('o')) # .count method used to find the number of o's in sentence\n",
    "print(s.count('o',5,len(s))) # .count('given variable',index value,len(s))\n",
    "print(s.count('om',2,len(s))) # by the method to find the combined variables\n",
    "# .endswith\n",
    "print(s.endswith(\"ing\"))  # .endswith using to find boolen's format get the true or false\n",
    "print(s.endswith('ing',2,len(s))) # .endswith('given variable',index value,len(s))\n",
    "print(s.endswith(\"on\"))\n",
    "# .startswith\n",
    "print(s.startswith(\"Welcome\")) # .startswith using to find boolen's format get the true or false\n",
    "print(s.startswith('Wel',0,len(s))) # .startswith('given variable',index value,len(s))\n",
    "print(s.startswith(\"ing\"))\n",
    "# .sfind\n",
    "print(s.find('o')) # .find method used to find the index of o's in sentence initially by the value of output index\n",
    "print(s.find('o',6,len(s)))  # .find('given variable',index value,len(s))--> searching the value from intially\n",
    "print(s.find('am',5,len(s))) # .find('given variable',index value,len(s))--> searching the value from intially (next step)\n",
    "# .rfind\n",
    "print(s.rfind('o')) # .rfind method used to find the index of o's in sentence backward by the value of output index\n",
    "print(s.rfind('o',21,len(s))) # .find('given variable',index value,len(s))--> searching the value from backward\n",
    "print(s.rfind('o',2,len(s)))  # (out the value of index get into -1),(bacxkward direction to check the value)\n",
    "# .index \n",
    "print(s.index('o')) # .index() --> to find the value of index from forward \n",
    "# .rindex\n",
    "print(s.rindex('o')) # .rindex()--> to find the value of index from bacward"
   ]
  },
  {
   "cell_type": "code",
   "execution_count": 17,
   "id": "bc8171bf",
   "metadata": {},
   "outputs": [
    {
     "name": "stdout",
     "output_type": "stream",
     "text": [
      "True\n",
      "True\n",
      "True\n",
      "False\n",
      "True\n",
      "False\n",
      "True\n",
      "False\n",
      "True\n",
      "True\n",
      "True\n",
      "False\n",
      "False\n",
      "Welcome To Python Programming\n",
      "True\n"
     ]
    }
   ],
   "source": [
    "# .is everthing is boolen function\n",
    "s1=\"abc123\"\n",
    "s2=\"abc\"\n",
    "s3=\"123\"\n",
    "s4=\"@#$%\"\n",
    "# .isalnum()\n",
    "print(s1.isalnum()) # alphabet & numerical values in the string\n",
    "print(s2.isalnum()) # only alphabet condition is true\n",
    "print(s3.isalnum()) # only numerical value is true\n",
    "print(s4.isalnum()) # sysmbol is not considered\n",
    "print(s2.isalpha()) # .isalpha only identify the alphabets not numerical\n",
    "print(s3.isalpha()) \n",
    "print(s3.isdigit()) # .isdigit only identify the numerical value not alphabet\n",
    "print(s2.isdigit())\n",
    "s=\" \"\n",
    "print(s.isspace()) # .isspace means to find the space in the string thet means no words in the string only space \n",
    "s5=\"ABC\"\n",
    "s6=\"aBcD\"\n",
    "print(s2.islower()) # .islower to identify the lower aplhabets not identify the upper\n",
    "print(s5.isupper()) # .isupper to identify the upper aplhabets not identify the lower\n",
    "print(s6.islower())\n",
    "print(s6.isupper())\n",
    "s7=\"welcome to python programming\"\n",
    "s8=\"Welcome\"\n",
    "print(s7.title())  # .title means all the initiel words the letter to be capital\n",
    "print(s8.istitle()) # .istitle means to be the initial word to be capital"
   ]
  },
  {
   "cell_type": "code",
   "execution_count": 16,
   "id": "7fb8e6b2",
   "metadata": {},
   "outputs": [
    {
     "name": "stdout",
     "output_type": "stream",
     "text": [
      "python    \n",
      "    python\n",
      "PYTHON\n",
      "python\n",
      "PYTHON\n",
      "python\n",
      "python\n",
      "   python\n",
      "python   \n",
      "welcyme ty pythyn prygramming\n",
      "welcyme ty python programming\n",
      "welcome to java programming\n",
      "['welcome', 'to', 'python', 'programming']\n",
      "['welcome', 'to', 'python programming']\n",
      "['welc', 'me t', ' pyth', 'n pr', 'gramming']\n",
      "WELCOME\n",
      "000welcome\n"
     ]
    }
   ],
   "source": [
    "# justify the value (left justify,right justify)-->as like center width & fill character\n",
    "s=\"python\"\n",
    "print(s.ljust(10,\" \"))  # just create the space on left after complition of index remaing space\n",
    "print(s.rjust(10,\" \")) # just create the space on right after complition of index remaing space \n",
    "print(s.upper()) # all the string varibles in captial letters\n",
    "print(s.lower()) # all the string varible in small letters\n",
    "t=s.upper()    # all the string varibles in captial letters\n",
    "print(t)\n",
    "t=s.lower()  # all the string varible in small letters\n",
    "print(t)\n",
    "# strip function(to remove the space starting space and ending space)\n",
    "s=\"   python   \"\n",
    "print(s.strip())  # .strip-->remove the space on the both sides\n",
    "print(s.rstrip()) # .rstrip -->remove the space on the right\n",
    "print(s.lstrip()) # .lstrip-->remove the space on the left side\n",
    "# replace \n",
    "s=\"welcome to python programming\"\n",
    "print(s.replace(\"o\",\"y\")) # .replace means to replace the varible in the sentance\n",
    "print(s.replace(\"o\",\"y\",2)) # (s.replace(\"given varible\",\"change varible\",index)) split the words what we menstioned index\n",
    "print(s.replace(\"python\",\"java\")) # complete words can be replacing\n",
    "# .split\n",
    "print(s.split(\" \")) # .split formate using to splint the sentence\n",
    "print(s.split(\" \",2)) # (s.split(\" \",index))\n",
    "print(s.split(\"o\")) # split the varibles what we have to mention the varible\n",
    "# swapcase\n",
    "s=\"welcome\"\n",
    "print(s.swapcase()) # .swapcase used to all the word letter to be capital form\n",
    "# zfill\n",
    "print(s.zfill(10))  # by the index value of words completing remaining to be zero's"
   ]
  },
  {
   "cell_type": "markdown",
   "id": "69fc75b3",
   "metadata": {},
   "source": [
    "# SETS"
   ]
  },
  {
   "cell_type": "code",
   "execution_count": 20,
   "id": "4a5cf008",
   "metadata": {},
   "outputs": [],
   "source": [
    "# CREATING SETS\n",
    "# SETS AS AN ITERABLE\n",
    "# BASIC OPERATIONS\n",
    "      # add,remove,discard,pop,clear, len, membership,\n",
    "    # issubset,issuperset,union,intersection,difference,copy,symmetric_difference,\n",
    "    # update,intersection_update,difference_update,symmetric_difference_update\n",
    "# SETS-->{com sep value}-->union,dif,symm (multiple datatypes,duplicates will remove unique,unordered,\n",
    "# mutables,no reassigning,no index,no slicing)"
   ]
  },
  {
   "cell_type": "code",
   "execution_count": 21,
   "id": "f0e510e3",
   "metadata": {},
   "outputs": [
    {
     "name": "stdout",
     "output_type": "stream",
     "text": [
      "<class 'dict'>\n",
      "set()\n",
      "{40, 10, 20, 30}\n",
      "{50, 20, 40, 10, 60, 30}\n",
      "5\n",
      "{50, 20, 40, 10, 60, 30}\n",
      "{50, 20, 40, 60, 30}\n",
      "{50, 20, 40, 60, 30}\n",
      "{50, 20, 60, 30}\n",
      "50\n",
      "{20, 60, 30}\n",
      "set()\n",
      "5\n",
      "True\n",
      "False\n",
      "50 20 40 10 30 "
     ]
    }
   ],
   "source": [
    "# CREATING SETS\n",
    "s={}\n",
    "print(type(s)) \n",
    "s=set() # create the set function\n",
    "print(s)\n",
    "s={20,40,10,30}\n",
    "print(s) # set forms as the disorder value \n",
    "s={20,10,50,20,60,10,30,40}\n",
    "print(s) # set can be element the duplicate elements in the set \n",
    "# BASIC OPERATIONS\n",
    "s={10,20,30,40,50}\n",
    "print(len(s)) # to identify the length of the set\n",
    "s.add(60)\n",
    "print(s) # element to be added to the set function\n",
    "s.remove(10)\n",
    "print(s) # element to be remove from the set function\n",
    "s.discard(100)\n",
    "print(s) # element to be remove(discard) from the set function if it is not there no set will be availible \n",
    "s.discard(40)\n",
    "print(s) # element to be remove(discard) from the set function\n",
    "print(s.pop())\n",
    "print(s) # element to be remove(pop) from the set function\n",
    "s.clear()\n",
    "print(s) # all element to be clear from the set function that means empty set\n",
    "s={10,20,30,40,50}\n",
    "# del s\n",
    "# print(s)  # all element to be delete from the set function that means empty set(syntex error)\n",
    "print(len(s)) # to identify the length of the set\n",
    "print(10 in s) # to identify the element of the set by the way of boolen function\n",
    "print(100 in s)\n",
    "for ele in s: # iteration can defined in the set function\n",
    "    print(ele,end=\" \")"
   ]
  },
  {
   "cell_type": "code",
   "execution_count": 25,
   "id": "4b247668",
   "metadata": {},
   "outputs": [
    {
     "name": "stdout",
     "output_type": "stream",
     "text": [
      "True\n",
      "True\n",
      "False\n",
      "False\n",
      "True\n",
      "True\n",
      "False\n",
      "False\n",
      "{70, 40, 10, 80, 20, 30}\n",
      "{70, 40, 10, 80, 20, 30}\n",
      "{70, 40, 10, 80, 20, 30}\n",
      "{70, 40, 10, 80, 20, 30}\n",
      "{40, 10, 20, 30}\n",
      "{40, 10, 20, 30}\n",
      "{40, 10, 20, 30}\n",
      "{40, 10, 20, 30}\n",
      "set()\n",
      "set()\n",
      "{80, 70}\n",
      "{80, 70}\n",
      "{40, 10, 20, 30}\n"
     ]
    }
   ],
   "source": [
    "# BOOLEN FUNCTION\n",
    "s={10,20,30,40,}\n",
    "t={10,20,30,40,70,80}\n",
    "\n",
    "print(s.issubset(t)) \n",
    "print(s<=t) # every element of s in the t(s subset of t)\n",
    "print(t.issubset(s))\n",
    "print(t<=s) # every element of t in the s(t subset of s)\n",
    "print(t.issuperset(s))\n",
    "print(t>=s) # every element of t in the s(t superset of s)\n",
    "print(s.issuperset(t))\n",
    "print(s>=t) # every element of s in the t(s superset of t)\n",
    "\n",
    "print(s.union(t))\n",
    "print(s|t)  # combination elements of both the sets(s union of t)\n",
    "print(t.union(s))\n",
    "print(t|s)  # combination elements of both the sets(t union of s)\n",
    "\n",
    "print(s.intersection(t))\n",
    "print(s&t) # similar elements in the both the sets(s intersection of t)\n",
    "print(t.intersection(s))\n",
    "print(t&s) # similar elements in the both the sets(t intersection of s)\n",
    "\n",
    "print(s.difference(t))\n",
    "print(s-t) # unsimilar elements in the sets (s differtial of t) \n",
    "print(t.difference(s))\n",
    "print(t-s) # unsimilar elements in the sets (t differtial of s) \n",
    "\n",
    "v=s.copy() # copy of all elements as a set of v\n",
    "print(v)"
   ]
  },
  {
   "cell_type": "code",
   "execution_count": 28,
   "id": "f122a0ed",
   "metadata": {},
   "outputs": [
    {
     "name": "stdout",
     "output_type": "stream",
     "text": [
      "{80, 70}\n",
      "{70, 80}\n",
      "{40, 10, 20, 30}\n",
      "{40, 10, 20, 30}\n",
      "{80, 20, 90, 100, 40, 10, 30}\n"
     ]
    }
   ],
   "source": [
    "s={10,20,30,40,}\n",
    "t={10,20,30,40,70,80}\n",
    "\n",
    "# SYMMETRIC_DIFFERENCE()--> in this symmetric difference (differential elements can be show as a given set)\n",
    "print(s.symmetric_difference(t)) # differential elements can be shown as a given set s\n",
    "print(t.symmetric_difference(s)) # differential elements can be shown as a given set t\n",
    "\n",
    "# INTERSECTION_UPDATE()---> (Similar elements in both the sets can be update as a given set)\n",
    "s.intersection_update(t)\n",
    "print(s) # (Similar elements in both the sets can be update as a given set s)\n",
    "t.intersection_update(s) \n",
    "print(t) # (Similar elements in both the sets can be update as a given set t)\n",
    "\n",
    "# UPDATE\n",
    "v={90,100,80}\n",
    "s.update(v)\n",
    "print(s) # s is update from v\n"
   ]
  },
  {
   "cell_type": "code",
   "execution_count": 27,
   "id": "6d192028",
   "metadata": {},
   "outputs": [
    {
     "name": "stdout",
     "output_type": "stream",
     "text": [
      "set()\n",
      "{80, 70}\n"
     ]
    }
   ],
   "source": [
    "# DIFFERTIAL_UPDATE --> when the sets consists of a differetiaL elements can be update as a given set\n",
    "s={10,20,30,40,}\n",
    "t={10,20,30,40,70,80}\n",
    "\n",
    "s.difference_update(t)\n",
    "print(s); # the sets consists of a differetiaL elements can be update as a given set s\n",
    "\n",
    "s={10,20,30,40,}\n",
    "t={10,20,30,40,70,80}\n",
    "t.difference_update(s)\n",
    "print(t); # the sets consists of a differetiaL elements can be update as a given set t"
   ]
  },
  {
   "cell_type": "code",
   "execution_count": 29,
   "id": "fd6b8e68",
   "metadata": {},
   "outputs": [
    {
     "name": "stdout",
     "output_type": "stream",
     "text": [
      "{70, 80}\n",
      "{80, 70}\n"
     ]
    }
   ],
   "source": [
    "# SYMMETRIC_DIFFERENCE_UPDATE (unsimilar elements update as a give set form)\n",
    "s={10,20,30,40,}\n",
    "t={10,20,30,40,70,80}\n",
    "\n",
    "s.symmetric_difference_update(t)\n",
    "print(s); # (unsimilar elements update as a set s)\n",
    "\n",
    "s={10,20,30,40,}\n",
    "t={10,20,30,40,70,80}\n",
    "\n",
    "t.symmetric_difference_update(s)\n",
    "print(t); # (unsimilar elements update as a set t)"
   ]
  },
  {
   "cell_type": "markdown",
   "id": "a9380b6a",
   "metadata": {},
   "source": [
    "# dictionary"
   ]
  },
  {
   "cell_type": "code",
   "execution_count": null,
   "id": "83a91349",
   "metadata": {},
   "outputs": [],
   "source": [
    "# creating dictionary\n",
    "# accessing items from dictionary\n",
    "# update dictionary\n",
    "# reassigning iteams\n",
    "# deleting iteams\n",
    "# dictionary iteams\n",
    "# built-in methods\n",
    "   # clear,copy,items,value,key,update.\n",
    "# dictionary={key:value}-->{key1:value1,key2:value2,.....}\n",
    "# keys having no duplicates\n",
    "# values having duplicates EX d={\"a\":2,\"b\":3}\n",
    "# access the indexing not value of integers are start with the 0,1,2...\n",
    "# character can be written in betweeen the \" \"\n",
    "# to define the value by the key formate not using the index. EX d['a']=2\n",
    "# empty dictonary can be indentify by the {} or dict"
   ]
  },
  {
   "cell_type": "code",
   "execution_count": 30,
   "id": "3f58e6b1",
   "metadata": {},
   "outputs": [
    {
     "name": "stdout",
     "output_type": "stream",
     "text": [
      "<class 'dict'>\n",
      "<class 'dict'>\n",
      "{'name': 'abc', 'per': 85}\n",
      "abc\n",
      "85\n",
      "{'name': 'abc', 'per': 85, 'college': 'abcd'}\n",
      "{'name': 'abc', 'per': 85, 'college': 'abcd', 'vinay': 'jaya'}\n",
      "{'name': 'abc', 'college': 'abcd', 'vinay': 'jaya'}\n"
     ]
    }
   ],
   "source": [
    "# CREATING DICTIONARY\n",
    "d={}\n",
    "print(type(d)) # to create the dictionary formate by the function formate\n",
    "d=dict()\n",
    "print(type(d))\n",
    "\n",
    "# ACCESSING THE ITEMS\n",
    "d={\"name\":\"abc\",\"per\":85}\n",
    "print(d)  \n",
    "print(d['name']) # accessing the iteams that means to be identify value by the key.\n",
    "print(d['per'])\n",
    "\n",
    "# UPDATE DICTIONARY\n",
    "d1={\"college\":\"abcd\"}\n",
    "d.update(d1)  # update the dictionary set of d1 into the set d\n",
    "print(d)  #  that meanns adding of dictionary set d1 into the d\n",
    "\n",
    "# REASSIGNING ITEAMS\n",
    "d['vinay']=\"jaya\" # reassigning the value by the way to key, (add the value in the formate)\n",
    "print(d)\n",
    "\n",
    "# DELETING ITEAMS \n",
    "del d['per'] # delete the value by the formate  (use the key to identify by the value to delete)\n",
    "print(d)"
   ]
  },
  {
   "cell_type": "code",
   "execution_count": 32,
   "id": "e5aff458",
   "metadata": {},
   "outputs": [
    {
     "name": "stdout",
     "output_type": "stream",
     "text": [
      "{0: 0, 1: 1, 2: 4, 3: 9, 4: 16, 5: 25, 6: 36, 7: 49, 8: 64, 9: 81}\n",
      "{0: 0, 1: 1, 2: 8, 3: 27, 4: 64, 5: 125, 6: 216, 7: 343, 8: 512, 9: 729}\n",
      "{0: 0, 2: 8, 4: 64, 6: 216, 8: 512}\n",
      "{0: 2, 1: 3, 2: 4, 3: 5, 4: 6, 5: 7, 6: 8, 7: 9, 8: 10, 9: 11}\n",
      "{0: 2, 2: 4, 4: 6, 6: 8, 8: 10}\n",
      "{0: -2, 1: -1, 2: 0, 3: 1, 4: 2, 5: 3, 6: 4, 7: 5, 8: 6, 9: 7}\n",
      "{0: -2, 2: 0, 4: 2, 6: 4, 8: 6}\n",
      "{0: 0.0, 1: 0.5, 2: 1.0, 3: 1.5, 4: 2.0, 5: 2.5, 6: 3.0, 7: 3.5, 8: 4.0, 9: 4.5}\n",
      "{0: 0.0, 2: 1.0, 4: 2.0, 6: 3.0, 8: 4.0}\n",
      "{0: 0, 1: 2, 2: 4, 3: 6, 4: 8, 5: 10, 6: 12, 7: 14, 8: 16, 9: 18}\n",
      "{0: 0, 1: 1, 2: 2, 3: 3, 4: 4, 5: 5, 6: 6, 7: 7, 8: 8, 9: 9}\n"
     ]
    }
   ],
   "source": [
    "    # DICTIONARY COMPREHENSION \n",
    "d={i:i**2 for i in range(10) if 1}\n",
    "print(d);   # by the power of 2 to get the all value in the dictionaray formate\n",
    "d={i:i**3 for i in range(10) if 1}\n",
    "print(d);   # by the power of cubic to get the all value in the dictionaray formate\n",
    "d={i:i**3 for i in range(10) if i%2==0}\n",
    "print(d);   # even value of cubic to get the even value in the dictionaray formate\n",
    "d={i:i+2 for i in range(10) if 1}\n",
    "print(d);   # adding function to use to get the all value in the dictionaray formate\n",
    "d={i:i+2 for i in range(10) if i%2==0}\n",
    "print(d);   # even adding values to get the adding even value in the dictionaray formate \n",
    "d={i:i-2 for i in range(10) if 1}\n",
    "print(d)    # subtract function to use to get the all value in the dictionaray formate\n",
    "d={i:i-2 for i in range(10) if i%2==0}\n",
    "print(d)    # even subtract values to get the all value in the dictionaray formatet\n",
    "d={i:i/2 for i in range(10) if 1}\n",
    "print(d)    # dividing function to be use to get the all value in the dictionaray formate\n",
    "d={i:i/2 for i in range(10) if i%2==0}\n",
    "print(d)    # even dividing values to get the all value in the dictionaray formate\n",
    "d={i:i*2 for i in range(10) if 1}\n",
    "print(d)    # multiple function to be use to get the all value in the dictionaray formate\n",
    "d={i:i for i in range(10) if 1}\n",
    "print(d)    # below the range of every value can be get the all value in the dictionaray formate"
   ]
  },
  {
   "cell_type": "code",
   "execution_count": 33,
   "id": "042a9f97",
   "metadata": {},
   "outputs": [
    {
     "name": "stdout",
     "output_type": "stream",
     "text": [
      "2\n",
      "{}\n",
      "{'name': {'frame': 'python', 'lname': 'programming'}, 'per': 85}\n",
      "{'frame': 'python', 'lname': 'programming'}\n",
      "programming\n",
      "{'name': {'frame': 'python', 'lname': 'programming'}, 'per': 85}\n",
      "{'name': {'frame': 'python', 'lname': 'programming'}, 'per': 85}\n",
      "dict_items([('name', {'frame': 'python', 'lname': 'programming'}), ('per', 85)])\n",
      "dict_values([{'frame': 'python', 'lname': 'programming'}, 85])\n",
      "dict_keys(['name', 'per'])\n"
     ]
    }
   ],
   "source": [
    "d={\"name\":\"abc\",\"per\":85}\n",
    "print(len(d))\n",
    "\n",
    "d.clear() # clear the dictionary\n",
    "print(d)\n",
    "\n",
    "# subset dictionary\n",
    "d={\"name\":{\"frame\":\"python\",\"lname\":\"programming\"},\"per\":85}\n",
    "print(d)\n",
    "print(d['name'])\n",
    "print(d['name']['lname'])\n",
    "\n",
    "# COPY that means copy the whole dictionary into another\n",
    "s=d.copy()\n",
    "print(s)\n",
    "d=s.copy()\n",
    "print(d)\n",
    "\n",
    "# ITEMS select the all items in the dictionary\n",
    "print(d.items())\n",
    "# VALUES select the value in the dictionary\n",
    "print(d.values())\n",
    "# KEYS select the keys in the dictionary\n",
    "print(d.keys())"
   ]
  },
  {
   "cell_type": "markdown",
   "id": "effe3473",
   "metadata": {},
   "source": [
    "# FUNCTIONS"
   ]
  },
  {
   "cell_type": "code",
   "execution_count": 34,
   "id": "ae95649a",
   "metadata": {},
   "outputs": [],
   "source": [
    "# TYPE OF FUNCTIONS \n",
    "   # BUILT-IN FUCTIONS (factorial,power,square,sin,cos)\n",
    "   # user defined functions,lambda functions-anonymous(no mains)\n",
    "# FUCTION CALL\n",
    "# FUNCTION DEFINITION\n",
    "# TYPE OF ARGUMENTS\n",
    "     # required arguments,default argument,keyword arguments,arbitary argument\n",
    "# MULTIPLE RETURNS\n",
    "# LOCAL AND GLOBAL VARIABLES.\n",
    "# LAMBDA FUNCTIONS\n",
    "# RECURSION.\n",
    "   # function declaration(not declare function in the python)  --> user defination function-top position we write\n",
    "   # function call                                             --> function call(user define function-->start def keyword)\n",
    "   # function definition"
   ]
  },
  {
   "cell_type": "code",
   "execution_count": 36,
   "id": "e16ebcd0",
   "metadata": {},
   "outputs": [
    {
     "name": "stdout",
     "output_type": "stream",
     "text": [
      "welcome to python\n",
      "hello venkatesh welcome to python\n"
     ]
    }
   ],
   "source": [
    "def display():       # user definition function\n",
    "    print(\"welcome to python\")   # user definition function\n",
    "display()  # function call\n",
    "\n",
    "def display(str):  # user definition function\n",
    "    print(\"hello\", str ,\"welcome to python\") # user definition () \n",
    "display(\"venkatesh\")"
   ]
  },
  {
   "cell_type": "code",
   "execution_count": 37,
   "id": "fb182e96",
   "metadata": {},
   "outputs": [
    {
     "name": "stdout",
     "output_type": "stream",
     "text": [
      "30\n",
      "176\n",
      "16\n",
      "7680\n",
      "1.2\n",
      "381679331735363428835846370550776822419124838390000957031986744866468942475602925069671162430805011777407784271781596964068259126677943771211245147045784190976\n"
     ]
    }
   ],
   "source": [
    "def add(a,b):   # user define function \n",
    "    c=a+b       # adding condition of the function\n",
    "    print(c)   # print the fuction\n",
    "add(10,20)      # function call for adding\n",
    "\n",
    "def add(a,b):\n",
    "    c=a+b      # adding condition of the function\n",
    "    return c   # return that means a function must be return to the call function of the elements.\n",
    "res=add(96,80) # result to be display by th call function\n",
    "print(res)\n",
    "\n",
    "def subtract(a,b):\n",
    "    c=a-b     # subtract condition of the function\n",
    "    return c \n",
    "res=subtract(96,80)\n",
    "print(res)\n",
    "\n",
    "def multiple(a,b):\n",
    "    c=a*b    # multiple condition of the function\n",
    "    return c\n",
    "res=multiple(96,80)\n",
    "print(res)\n",
    "\n",
    "def divide(a,b):\n",
    "    c=a/b    # divide condition of the function\n",
    "    return c\n",
    "res=divide(96,80)\n",
    "print(res)\n",
    "\n",
    "def power(a,b):\n",
    "    c=a**b   # power condition of the function\n",
    "    return c\n",
    "res=power(96,80)\n",
    "print(res)"
   ]
  },
  {
   "cell_type": "code",
   "execution_count": 38,
   "id": "4bf85316",
   "metadata": {},
   "outputs": [
    {
     "name": "stdout",
     "output_type": "stream",
     "text": [
      "10 20\n",
      "20 10\n"
     ]
    }
   ],
   "source": [
    "# REQUIRED ARGUMENT\n",
    "# ---> no. of parametes should match in both function call & def\n",
    "# ---> position argument(same position having)\n",
    "def display(a,b):\n",
    "    print(a,b); # dispaly a--> a=10 , b-->b=20\n",
    "display(10,20)\n",
    "\n",
    "def display(b,a): # b1 ,a1\n",
    "    print(a,b); # dispaly b1--> 10=b , a1-->20=a\n",
    "display(10,20)"
   ]
  },
  {
   "cell_type": "code",
   "execution_count": 39,
   "id": "da0528a1",
   "metadata": {},
   "outputs": [
    {
     "name": "stdout",
     "output_type": "stream",
     "text": [
      "10 20\n",
      "200 10\n"
     ]
    }
   ],
   "source": [
    "# DEFAULT ARGUMENTS\n",
    "# No. of parameters amy not be equal in both function call & definition.\n",
    "# default argument should be listed end of the parameter list\n",
    "def display(a,b=20):\n",
    "    print(a,b); # dispaly a--> a=10 , b--> b=20\n",
    "display(10)\n",
    "\n",
    "def display(b,a=200): # b1 ,a1\n",
    "    print(a,b); # dispaly a1-->200=a\n",
    "display(10)"
   ]
  },
  {
   "cell_type": "code",
   "execution_count": null,
   "id": "989e89cb",
   "metadata": {},
   "outputs": [
    {
     "name": "stdout",
     "output_type": "stream",
     "text": [
      "20 60 -10\n"
     ]
    }
   ],
   "source": [
    "# KEYWORD ARGUMENT\n",
    "# parameter (match or doesn't match)\n",
    "# variables names to be used (keywords)\n",
    "# no need to follow the position argument.\n",
    "def display(a,b,c):\n",
    "    print(a,b,c) # dispaly a--> a=10 , b--> b=20\n",
    "display(c=-10,a=20,b=60) # by the following of key words to display the value"
   ]
  },
  {
   "cell_type": "code",
   "execution_count": 42,
   "id": "b1c62dc6",
   "metadata": {},
   "outputs": [
    {
     "name": "stdout",
     "output_type": "stream",
     "text": [
      "(90, 80, 52, 64, 35, 75, 62)\n",
      "<class 'tuple'>\n",
      "52\n"
     ]
    }
   ],
   "source": [
    "# ORBITARY ARGUMENT\n",
    "# function definition-->only one argument to pass-->variable name\n",
    "# function call-any no.1 argument to be pass\n",
    "def display(*marks):\n",
    "    print(marks)\n",
    "    print(type(marks))\n",
    "display(90,80,52,64,35,75,62)\n",
    "\n",
    "def display(*marks):\n",
    "    print(marks[2]) # multiple value from function call to assign a single variable\n",
    "display(90,80,52,64,35,75,62)  # for function definition [tuple] formation"
   ]
  },
  {
   "cell_type": "code",
   "execution_count": 43,
   "id": "a2966cac",
   "metadata": {},
   "outputs": [
    {
     "name": "stdout",
     "output_type": "stream",
     "text": [
      "(10, 20)\n",
      "10\n",
      "20\n"
     ]
    }
   ],
   "source": [
    "# MULTIPLE RETURN\n",
    "def display(a,b):\n",
    "    return a,b  # multi values can be obtained by the function values\n",
    "\n",
    "res=display(10,20)\n",
    "\n",
    "print(res)\n",
    "print(res[0])\n",
    "print(res[1])"
   ]
  },
  {
   "cell_type": "code",
   "execution_count": null,
   "id": "86b38cf0",
   "metadata": {},
   "outputs": [
    {
     "name": "stdout",
     "output_type": "stream",
     "text": [
      "100\n",
      "100\n"
     ]
    }
   ],
   "source": [
    "# LOCAL AND GLOBAL VARIABLE\n",
    "# VARIABLES CAN BE WRITTEN AN UPWARD OF FUNCTION DEFINITION\n",
    "a=100 # Global variable\n",
    "def display():\n",
    "    print(a) # local value(inside function)\n",
    "display()\n",
    "print(a) # global value(outside function)"
   ]
  },
  {
   "cell_type": "code",
   "execution_count": null,
   "id": "26b9cae0",
   "metadata": {},
   "outputs": [
    {
     "name": "stdout",
     "output_type": "stream",
     "text": [
      "500\n",
      "100\n"
     ]
    }
   ],
   "source": [
    "# local variable and global variable with the same naming\n",
    "a=100 # Global variable # without the global value we don't get the value\n",
    "def display():\n",
    "    a=500  # local variable(first preffernce)\n",
    "    print(a) # local value(inside function){at function declaration}\n",
    "display()\n",
    "print(a) # global value(outside function)"
   ]
  },
  {
   "cell_type": "code",
   "execution_count": 47,
   "id": "abed6e84",
   "metadata": {},
   "outputs": [
    {
     "name": "stdout",
     "output_type": "stream",
     "text": [
      "101\n"
     ]
    }
   ],
   "source": [
    "z=100  # global value\n",
    "def display():\n",
    "    global z # global value repeat\n",
    "    z=z+1  # condition of the function\n",
    "    print(z)\n",
    "display()"
   ]
  },
  {
   "cell_type": "code",
   "execution_count": 48,
   "id": "457b7c2c",
   "metadata": {},
   "outputs": [
    {
     "name": "stdout",
     "output_type": "stream",
     "text": [
      "4\n",
      "-2\n",
      "18\n",
      "2.0\n",
      "157464\n"
     ]
    }
   ],
   "source": [
    "# LAMBDA FUNCTION (start with lambda keyword)\n",
    "add=lambda a,b:a+b\n",
    "print(add(1,3))\n",
    "\n",
    "subtract=lambda a,b:a-b\n",
    "print(subtract(1,3))\n",
    "\n",
    "multiple=lambda a,b:a*b\n",
    "print(multiple(6,3))\n",
    "\n",
    "divide=lambda a,b:a/b\n",
    "print(divide(6,3))\n",
    "\n",
    "power=lambda a,b:a**b\n",
    "print(power(54,3))"
   ]
  },
  {
   "cell_type": "code",
   "execution_count": null,
   "id": "3461f8cd",
   "metadata": {},
   "outputs": [],
   "source": [
    "# # RECURSION\n",
    "# # calling function-->calling function itself\n",
    "# def display():\n",
    "#    display()\n",
    "# # display() #(to stop by the base condition)"
   ]
  },
  {
   "cell_type": "code",
   "execution_count": 49,
   "id": "01fe7e10",
   "metadata": {},
   "outputs": [
    {
     "name": "stdout",
     "output_type": "stream",
     "text": [
      "24\n"
     ]
    }
   ],
   "source": [
    "# FACTORIAL\n",
    "def fact(n):\n",
    "    if n==0 or n==1:\n",
    "        return 1\n",
    "    else:\n",
    "        return n*fact(n-1)\n",
    "print(fact(4))"
   ]
  },
  {
   "cell_type": "code",
   "execution_count": 50,
   "id": "f4d65cd1",
   "metadata": {},
   "outputs": [
    {
     "name": "stdout",
     "output_type": "stream",
     "text": [
      "24\n"
     ]
    }
   ],
   "source": [
    "# GCD\n",
    "def gcd(n):\n",
    "    if n==0 or n==1:\n",
    "        return 1\n",
    "    else:\n",
    "        return n*gcd(n-1)\n",
    "print(gcd(4))"
   ]
  },
  {
   "cell_type": "markdown",
   "id": "631e858d",
   "metadata": {},
   "source": [
    "# FILES"
   ]
  },
  {
   "cell_type": "code",
   "execution_count": 51,
   "id": "98902ea7",
   "metadata": {},
   "outputs": [],
   "source": [
    "# FILES --> OUTPUT STORE(SAVE OUTPUT) --> READ --> {OPEN}(READ/WRITE){CLOSE}\n",
    "# open(\"filename\",\"mode\")\n",
    "# filename (to point out by the file object){text files --> binary{othert}(text files)}\n",
    "# read mode --> only read\n",
    "# write mode --> only write\n",
    "# append mode"
   ]
  },
  {
   "cell_type": "code",
   "execution_count": 55,
   "id": "574304dc",
   "metadata": {},
   "outputs": [],
   "source": [
    "# fo=open(\"hello.text\",\"w\") {to create file ready to write}\n",
    "# fo.close()  \n",
    "# # fo=open(\"hello.text\",\"r\")\n",
    "# fo.read()  {after creating the file ready to read}\n",
    "fo=open(\"hello.txt\",\"w\")\n",
    "fo.write(\"hello\")\n",
    "fo.write(\" welcome\")\n",
    "fo.close()"
   ]
  },
  {
   "cell_type": "code",
   "execution_count": 56,
   "id": "ecb49ad6",
   "metadata": {},
   "outputs": [
    {
     "name": "stdout",
     "output_type": "stream",
     "text": [
      "fo1.read(5)\n",
      "hello welcome"
     ]
    }
   ],
   "source": [
    "fo=open(\"hello.txt\",\"r\")\n",
    "print(\"fo1.read(5)\")\n",
    "lines = fo.readlines()\n",
    "for line in lines:\n",
    "        print(line,end = '')\n",
    "fo.close()"
   ]
  },
  {
   "cell_type": "code",
   "execution_count": null,
   "id": "7bbeec4c",
   "metadata": {},
   "outputs": [],
   "source": []
  }
 ],
 "metadata": {
  "kernelspec": {
   "display_name": "m3",
   "language": "python",
   "name": "python3"
  },
  "language_info": {
   "codemirror_mode": {
    "name": "ipython",
    "version": 3
   },
   "file_extension": ".py",
   "mimetype": "text/x-python",
   "name": "python",
   "nbconvert_exporter": "python",
   "pygments_lexer": "ipython3",
   "version": "3.10.12"
  }
 },
 "nbformat": 4,
 "nbformat_minor": 5
}
